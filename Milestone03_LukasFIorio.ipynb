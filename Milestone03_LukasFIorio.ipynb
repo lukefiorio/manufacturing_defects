{
 "cells": [
  {
   "cell_type": "markdown",
   "metadata": {},
   "source": [
    "# Milestone 3 - SECOM Manufacturing\n",
    "\n",
    "## Author - Lukas Fiorio"
   ]
  },
  {
   "cell_type": "markdown",
   "metadata": {},
   "source": [
    "## Introduction\n",
    "\n",
    "In this project we build upon the feature selection and predictive models that we started in Milestones 1 and 2.  Our goal is to predict manufacturing failures based on sensor readings that monitor the manufacturing process.\n",
    "\n",
    "In Milestone 1 we used various feature selection techniques to reduce the dimensionality of our data to just the most useful predictors.\n",
    "\n",
    "In Milestone 2 we went further to split our data into Train-Validate-Test sets for model evaluation using Decision Tree, Random Forest, and SVM classifier models.  We explored several hyper parameters for each and found that the Decision Tree performed the best, given our goal of catching defects (i.e. high recall; reasonable precision).\n",
    "\n",
    "In this project, we will build neural network models and benchmark them against our Decision Tree from Milestone 2."
   ]
  },
  {
   "cell_type": "code",
   "execution_count": 1,
   "metadata": {},
   "outputs": [],
   "source": [
    "# Import libraries\n",
    "import pandas as pd\n",
    "import numpy as np\n",
    "from numpy.random import seed\n",
    "import matplotlib.pyplot as plt\n",
    "import seaborn as sns\n",
    "import urllib\n",
    "\n",
    "# SFS stepwise selection\n",
    "from mlxtend.feature_selection import SequentialFeatureSelector as SFS\n",
    "from mlxtend.plotting import plot_sequential_feature_selection as plot_sfs\n",
    "from mlxtend.evaluate import PredefinedHoldoutSplit\n",
    "\n",
    "# feature reduction\n",
    "from sklearn.feature_selection import mutual_info_regression\n",
    "from sklearn import linear_model\n",
    "from sklearn.linear_model import LinearRegression\n",
    "\n",
    "# preprocessing\n",
    "from sklearn.model_selection import train_test_split\n",
    "from sklearn.preprocessing import StandardScaler\n",
    "\n",
    "# accuracy metrics\n",
    "from sklearn.metrics import confusion_matrix\n",
    "from sklearn.metrics import f1_score\n",
    "from sklearn.metrics import precision_score\n",
    "from sklearn.metrics import recall_score\n",
    "from sklearn.metrics import accuracy_score\n",
    "from sklearn.metrics import classification_report\n",
    "\n",
    "# multiple imputation\n",
    "from sklearn.experimental import enable_iterative_imputer\n",
    "from sklearn.impute import IterativeImputer\n",
    "\n",
    "# classifiers\n",
    "from sklearn import svm\n",
    "from sklearn.tree import DecisionTreeClassifier\n",
    "from sklearn.ensemble import RandomForestClassifier as rfc\n",
    "\n",
    "# neural networks\n",
    "import tensorflow as tf\n",
    "from tensorflow.keras import regularizers\n",
    "from tensorflow.keras.layers import Dense, Dropout, Flatten, Conv1D, MaxPooling1D\n",
    "\n",
    "from joblib import dump, load # save/load model fitted models \n",
    "from itertools import product # cartesian product\n",
    "from matplotlib.ticker import MaxNLocator # integer tick labels"
   ]
  },
  {
   "cell_type": "code",
   "execution_count": 2,
   "metadata": {},
   "outputs": [],
   "source": [
    "# set package options\n",
    "pd.set_option('display.max_columns', None) # show all columns"
   ]
  },
  {
   "cell_type": "markdown",
   "metadata": {},
   "source": [
    "## Read and merge data\n",
    "\n",
    "This was handled and explained in more detail in Milestone 1.  Below is a summary of the steps taken:\n",
    "\n",
    "- Inspected features and labels\n",
    "  - Features were in a space-delimited (`\" \"`) txt file.  Loaded them into a dataframe.\n",
    "  - Labels needed more customized loading (line-by-line into a list, parsing out extra fields and characters).\n",
    "- Merged features and labels together into a dataframe."
   ]
  },
  {
   "cell_type": "code",
   "execution_count": 3,
   "metadata": {},
   "outputs": [],
   "source": [
    "# data sources, for loading\n",
    "features_url = \"https://archive.ics.uci.edu/ml/machine-learning-databases/secom/secom.data\"\n",
    "labels_url = \"https://archive.ics.uci.edu/ml/machine-learning-databases/secom/secom_labels.data\"\n",
    "\n",
    "# load features into df\n",
    "features = np.loadtxt(features_url)\n",
    "features_df = pd.DataFrame(features)\n",
    "\n",
    "# load labels data into list\n",
    "labels_txt = urllib.request.urlopen(labels_url).read().splitlines()\n",
    "labels = [] # empty list to store labels\n",
    "\n",
    "# loop through labels, cleaning/splitting & appending to new list\n",
    "for i in labels_txt:\n",
    "    i = i.decode(\"utf-8\").replace('\"', '').split()\n",
    "    labels.append(i) # append to list\n",
    "\n",
    "# convert list to df\n",
    "labels_df = pd.DataFrame(labels, columns = ['target', 'date', 'time'])\n",
    "\n",
    "# properly type each column\n",
    "labels_df['target'] = labels_df['target'].astype('int')\n",
    "labels_df['date'] = pd.to_datetime(labels_df['date'])\n",
    "labels_df['time'] = pd.to_timedelta(labels_df['time'])\n",
    "\n",
    "# concat features & labels into df\n",
    "secom_df = pd.concat([features_df, labels_df], axis=1)"
   ]
  },
  {
   "cell_type": "markdown",
   "metadata": {},
   "source": [
    "## Clean and Prepare Data"
   ]
  },
  {
   "cell_type": "markdown",
   "metadata": {},
   "source": [
    "In Milestone 1, we walked through several steps we took to clean our data (reducing the feature count in the process) *before* addressing class imbalance and feature selection methods.\n",
    "\n",
    "Here, we've condensed those steps down.\n",
    "\n",
    "- Drop duplicate columns \\[104\\] (and convert object columns back to numeric)\n",
    "- Drop columns with only a single unique value \\[12\\]\n",
    "- Drop columns with 80%+ null values \\[8\\]"
   ]
  },
  {
   "cell_type": "code",
   "execution_count": 4,
   "metadata": {},
   "outputs": [],
   "source": [
    "### drop duplicate columns ###\n",
    "secom_df = secom_df.T.drop_duplicates().T\n",
    "\n",
    "# convert object columns back to numeric\n",
    "obj_cols = secom_df.select_dtypes('object').columns\n",
    "secom_df[obj_cols] = secom_df[obj_cols].astype(float)\n",
    "secom_df['target'] = secom_df['target'].astype(int)\n",
    "\n",
    "### drop columns w 1 unique val ###\n",
    "\n",
    "# count of unique values by column\n",
    "unique_val_cnt = secom_df.nunique().tolist()\n",
    "\n",
    "# flag & drop columns with only 1 unique value\n",
    "redundant_cols = secom_df.columns[np.where(np.array(unique_val_cnt)==1)[0]]\n",
    "secom_df = secom_df.drop(redundant_cols, axis = 1)\n",
    "\n",
    "### drop columns w 80%+ nulls ###\n",
    "\n",
    "# flag & drop columns w >80% null values\n",
    "high_null_cols = secom_df.T[(secom_df.isnull().sum() / secom_df.shape[0])>0.8].T.columns\n",
    "secom_df = secom_df.drop(high_null_cols, 1)"
   ]
  },
  {
   "cell_type": "markdown",
   "metadata": {},
   "source": [
    "Before going any further, we'll specify seeding to ensure replicability."
   ]
  },
  {
   "cell_type": "code",
   "execution_count": 5,
   "metadata": {},
   "outputs": [],
   "source": [
    "random_state = 99\n",
    "\n",
    "# set seeds\n",
    "seed(random_state)\n",
    "tf.random.set_seed(random_state)"
   ]
  },
  {
   "cell_type": "markdown",
   "metadata": {},
   "source": [
    "### Split data into Train-Validate-Test\n",
    "\n",
    "In Milestone 2, we then split our data into train-validate-test before going any further to handle missing values, standardize data, and implement feature reduction techniques.\n",
    "\n",
    "The validation set allows us to tune hyper parameters without introducing test set leakage.\n",
    "\n",
    "We split the data into train-validate-test @ 80-10-10."
   ]
  },
  {
   "cell_type": "code",
   "execution_count": 6,
   "metadata": {},
   "outputs": [],
   "source": [
    "# specify target\n",
    "target = 'target'\n",
    "\n",
    "# drop unneeded timestamp data from labels\n",
    "secom_df = secom_df.drop(['date', 'time'], axis = 1)\n",
    "\n",
    "# separate df features and target\n",
    "X = secom_df.copy().drop([target], axis = 1)\n",
    "y = secom_df[target].copy()\n",
    "\n",
    "# split into train-test\n",
    "X_train, X_test, y_train, y_test = train_test_split(X, y, \n",
    "                                                    test_size = 0.1, \n",
    "                                                    random_state = random_state)\n",
    "\n",
    "# split train into train-validation\n",
    "X_train, X_valid, y_train, y_valid = train_test_split(X_train, y_train, \n",
    "                                                      test_size = (1/9), \n",
    "                                                      random_state = random_state)"
   ]
  },
  {
   "cell_type": "markdown",
   "metadata": {},
   "source": [
    "And we'll also reset the indices on each of our datasets to avoid issues with joining later on (during pre-processing)."
   ]
  },
  {
   "cell_type": "code",
   "execution_count": 7,
   "metadata": {},
   "outputs": [],
   "source": [
    "# reset index to avoid issues with joining later on\n",
    "X_train = X_train.reset_index(drop = True)\n",
    "X_valid = X_valid.reset_index(drop = True)\n",
    "X_test = X_test.reset_index(drop = True)\n",
    "\n",
    "y_train = y_train.reset_index(drop = True)\n",
    "y_valid = y_valid.reset_index(drop = True)\n",
    "y_test = y_test.reset_index(drop = True)"
   ]
  },
  {
   "cell_type": "markdown",
   "metadata": {},
   "source": [
    "### Handle missing values (multiple imputation estimator)\n",
    "\n",
    "To deal with missing values we fit a multiple imputation estimator on the training data.  This filled our missing values based on the conditional distribution of the other features (based on cases that are **not** null).  It does not use the target's conditional distribution (this is to avoid leakage).\n",
    "\n",
    "Alternatives considered were mean or median filling, or zero-filling (assuming a missing sensor reading is equivalent to a value of 0).  Since we do not know the data well enough to know *why* the records are missing, we don't feel comfortable zero-filling.\n",
    "\n",
    "Mean or median filling is generally a less accurate way to fill missing values since it does not take into account changes in the conditional distribution of the other features.\n",
    "\n",
    "The downsides to using this estimator are additional processing time (~5 minutes) and it still does not solve for bias inherent to the missing records themselves (i.e. certain records being more likely to be missing)."
   ]
  },
  {
   "cell_type": "code",
   "execution_count": 8,
   "metadata": {
    "scrolled": true
   },
   "outputs": [
    {
     "name": "stderr",
     "output_type": "stream",
     "text": [
      "/opt/anaconda3/envs/uwdatasci400/lib/python3.6/site-packages/sklearn/impute/_iterative.py:670: ConvergenceWarning: [IterativeImputer] Early stopping criterion not reached.\n",
      "  \" reached.\", ConvergenceWarning)\n"
     ]
    },
    {
     "data": {
      "text/plain": [
       "IterativeImputer(max_iter=3, random_state=99)"
      ]
     },
     "execution_count": 8,
     "metadata": {},
     "output_type": "execute_result"
    }
   ],
   "source": [
    "# limit to just 3 iterations (~5 minutes)\n",
    "mice = IterativeImputer(max_iter = 3, random_state = random_state) # initialize imputer\n",
    "mice.fit(X_train) # fit imputer\n",
    "\n",
    "# dump(mice, 'models_lfiorio/mice.joblib') "
   ]
  },
  {
   "cell_type": "markdown",
   "metadata": {},
   "source": [
    "And now we apply the fitted imputation estimator to each of our train-validate-test sets."
   ]
  },
  {
   "cell_type": "code",
   "execution_count": 9,
   "metadata": {},
   "outputs": [],
   "source": [
    "# pull out column names\n",
    "X_cols = X.columns.tolist()\n",
    "\n",
    "# make imputations\n",
    "X_train = pd.DataFrame(mice.transform(X_train), columns = X_cols)\n",
    "X_valid = pd.DataFrame(mice.transform(X_valid), columns = X_cols)\n",
    "X_test = pd.DataFrame(mice.transform(X_test), columns = X_cols)"
   ]
  },
  {
   "cell_type": "markdown",
   "metadata": {},
   "source": [
    "## Class imbalance\n",
    "\n",
    "Examining class balance showed that manufacturing defects are a lot more rare than successes.  In real life, this is a good thing!  However, for our modeling we'll need to address this.\n",
    "\n",
    "- `target = -1` (success)\n",
    "- `target =  1` (failure)"
   ]
  },
  {
   "cell_type": "code",
   "execution_count": 10,
   "metadata": {},
   "outputs": [
    {
     "name": "stdout",
     "output_type": "stream",
     "text": [
      "6.70% of values\n",
      "-1    1169\n",
      " 1      84\n",
      "Name: target, dtype: int64\n"
     ]
    }
   ],
   "source": [
    "# examine class imbalance\n",
    "print(\"{:.2%}\".format((y_train==1).mean()), 'of values')\n",
    "print(y_train.value_counts())"
   ]
  },
  {
   "cell_type": "markdown",
   "metadata": {},
   "source": [
    "### Motivation\n",
    "\n",
    "Our data are heavily biased toward \"success\" (`target = -1`); only ~7% of observations are failures.  When we fit our model, we want to ensure that each class has equal importance/priority on the fit."
   ]
  },
  {
   "cell_type": "markdown",
   "metadata": {},
   "source": [
    "### Approach\n",
    "\n",
    "To address class imbalance, we will use smote (**S**ynthetic **M**inority **O**versampling **TE**chnique) to interpolate our X features based on positive cases (where `target = 1`). \n",
    "\n",
    "We will address class imbalance in our training and validation sets, but **not** in our test set.  One issue with this approach is that performance on the validation set will not be as representative of actual performance in production (where data *will* be unbalanced).\n",
    "\n",
    "We will address this by examining model performance on the test set across various accuracy metrics (precision, recall, etc)."
   ]
  },
  {
   "cell_type": "markdown",
   "metadata": {},
   "source": [
    "#### Standardize the data\n",
    "\n",
    "Since smote is based on a knn algorithm, we'll first standardize our features.  knn is strongly influenced by varying magnitudes across features since it is a distance-based algorithm."
   ]
  },
  {
   "cell_type": "code",
   "execution_count": 11,
   "metadata": {},
   "outputs": [],
   "source": [
    "# initialize and fit z-transform on features\n",
    "znormalizer = StandardScaler()\n",
    "znormalizer.fit(X_train)\n",
    "\n",
    "# apply fitted transformation to features\n",
    "X_train_znorm = pd.DataFrame(znormalizer.transform(X_train), columns = X_cols)\n",
    "X_valid_znorm = pd.DataFrame(znormalizer.transform(X_valid), columns = X_cols)\n",
    "X_test_znorm = pd.DataFrame(znormalizer.transform(X_test), columns = X_cols)"
   ]
  },
  {
   "cell_type": "markdown",
   "metadata": {},
   "source": [
    "#### SMOTE\n",
    "\n",
    "Now we'll implement smote to balance our target variable in the train and validation sets.  Quick verification now shows balanced classes."
   ]
  },
  {
   "cell_type": "code",
   "execution_count": 12,
   "metadata": {
    "scrolled": true
   },
   "outputs": [
    {
     "name": "stdout",
     "output_type": "stream",
     "text": [
      "-1    1169\n",
      " 1    1169\n",
      "Name: target, dtype: int64\n",
      "-1    147\n",
      " 1    147\n",
      "Name: target, dtype: int64\n"
     ]
    }
   ],
   "source": [
    "from imblearn.over_sampling import SMOTE\n",
    "\n",
    "# initialize SMOTE and resample the minority class (y=1)\n",
    "smote = SMOTE(random_state=random_state)\n",
    "X_train_smote, y_train_smote = smote.fit_resample(X = X_train_znorm, y = y_train)\n",
    "X_valid_smote, y_valid_smote = smote.fit_resample(X = X_valid_znorm, y = y_valid)\n",
    "\n",
    "# confirm balanced classes\n",
    "print(y_train_smote.value_counts().sort_index())\n",
    "print(y_valid_smote.value_counts().sort_index())"
   ]
  },
  {
   "attachments": {},
   "cell_type": "markdown",
   "metadata": {},
   "source": [
    "## Feature selection\n",
    "\n",
    "In Milestone 1, we used 3 feature selection techniques to reduce the dimensionality of our data.\n",
    "- Filter (Mutual Information)\n",
    "- Wrapper (Forward Selection)\n",
    "- Embed (Lasso Regression)\n",
    "\n",
    "There were a lot of decisions to make in the feature reduction process, but many columns could be eliminated without applying any feature selection methods at all.  Simply through the data cleaning above, we were able to eliminate over 100 columns.\n",
    "\n",
    "We found relatively little intersection of the features selected using each method.  Almost 2/3 of the unique features selected across the methods were *only* selected by a single method.\n",
    "\n",
    "In the end we reduced dimensionality to about 95 features, much less than the nearly 600 we started with.\n",
    "\n",
    "The feature reduction process is implemented below."
   ]
  },
  {
   "cell_type": "markdown",
   "metadata": {},
   "source": [
    "### Mutual information\n",
    "\n",
    "We started by calculating mutual information of each attribute with the target (using our class-balanced dataset).  We identified two natural threshold points on Mutual Information (0.1, 0.3).\n",
    "\n",
    "Based on later analysis we determined that filtering to features with Mutual Information > 0.1 and uncorrelated with each other would be best.  We walk through those steps here."
   ]
  },
  {
   "cell_type": "code",
   "execution_count": 13,
   "metadata": {},
   "outputs": [
    {
     "name": "stdout",
     "output_type": "stream",
     "text": [
      "# of feature above M.I. threshold: 204\n"
     ]
    }
   ],
   "source": [
    "# calculate mutual information w target\n",
    "mi_score = mutual_info_regression(X_train_smote, y_train_smote, random_state=random_state)\n",
    "mi_score_df = pd.DataFrame({'attribute': X_train_smote.columns, 'mi_score': mi_score})\n",
    "\n",
    "# omit features whose M.I. with target is < 0.1\n",
    "mid_mi_df = mi_score_df[mi_score_df['mi_score']>0.1]\n",
    "mid_mi_cols = mid_mi_df['attribute'].tolist()\n",
    "\n",
    "print('# of feature above M.I. threshold:', len(mid_mi_cols))"
   ]
  },
  {
   "cell_type": "markdown",
   "metadata": {},
   "source": [
    "Since some of the selected features were highly correlated with each other, we also take the additional step to remove a degree of that dependence.  Independent features is a key assumption for linear models (such as SVM).\n",
    "\n",
    "The below function calculates the correlation between each feature combination.  If the feature correlation is above a certain threshold (0.7), *one* (not both) of those columns is stored for removal."
   ]
  },
  {
   "cell_type": "code",
   "execution_count": 14,
   "metadata": {},
   "outputs": [],
   "source": [
    "def find_corr_features(df):\n",
    "\n",
    "    corr_cols = []\n",
    "\n",
    "    # check for MI within remaining features\n",
    "    for col_i in df.columns:\n",
    "        for col_j in df.columns:\n",
    "\n",
    "            # compute MI for upper triangle\n",
    "            if col_i < col_j:\n",
    "                corr = df[col_i].corr(df[col_j]) \n",
    "                \n",
    "                # store & print if above threshold\n",
    "                if corr > 0.7:\n",
    "                    corr_cols.append(col_i)\n",
    "\n",
    "    return corr_cols"
   ]
  },
  {
   "cell_type": "markdown",
   "metadata": {},
   "source": [
    "Apply this function to the features we identified above and then remove those that are highly correlated with each other. (~60 seconds)"
   ]
  },
  {
   "cell_type": "code",
   "execution_count": 15,
   "metadata": {},
   "outputs": [
    {
     "name": "stdout",
     "output_type": "stream",
     "text": [
      "# of feature above M.I. threshold AND low dependence w each other: 120\n"
     ]
    }
   ],
   "source": [
    "# store columns with high correlation between each other\n",
    "mid_mi_corr_cols = find_corr_features(X_train_smote[mid_mi_cols])\n",
    "\n",
    "# remove duplicates from list of correlated columns\n",
    "mid_mi_corr_cols = list(dict.fromkeys(mid_mi_corr_cols))\n",
    "\n",
    "# keep only the features with low dependence on one another\n",
    "mid_mi_cols = list(X_train_smote[mid_mi_cols].columns.difference(mid_mi_corr_cols, sort = False))\n",
    "\n",
    "print('# of feature above M.I. threshold AND low dependence w each other:', len(mid_mi_cols))"
   ]
  },
  {
   "cell_type": "markdown",
   "metadata": {},
   "source": [
    "Keep only features with low dependence on one another."
   ]
  },
  {
   "cell_type": "markdown",
   "metadata": {},
   "source": [
    "### Forward selection"
   ]
  },
  {
   "cell_type": "markdown",
   "metadata": {},
   "source": [
    "We use forward selection, continually adding one feature to a linear model and monitoring when to stop (based on error).\n",
    "\n",
    "Based on the # of relevant features found in the filtering method above, we decided to stop after 200 steps.  This was more than enough to see when diminishing marginal returns set in.\n",
    "\n",
    "To maintain consistency of model fitting on the training data based on the validation data, we take the extra step to temporarily combine the two back together for the `SFS` model, specifying the validation indices as our desired cross-validation split."
   ]
  },
  {
   "cell_type": "code",
   "execution_count": 16,
   "metadata": {},
   "outputs": [],
   "source": [
    "# temporarily combine the training ad validation sets\n",
    "X_train_valid_smote = pd.concat([X_train_smote, X_valid_smote]).reset_index(drop = True)\n",
    "y_train_valid_smote = y_train_smote.append(y_valid_smote).reset_index(drop = True)\n",
    "\n",
    "# store validation set indices to pass to SFS\n",
    "validation_index = np.array(range(X_train_smote.shape[0], X_train_valid_smote.shape[0]))\n",
    "\n",
    "# define cv object for SFS\n",
    "cv_split = PredefinedHoldoutSplit(validation_index)"
   ]
  },
  {
   "cell_type": "markdown",
   "metadata": {},
   "source": [
    "Initialize the model and pass the indices from the validation set to be used for fitting"
   ]
  },
  {
   "cell_type": "code",
   "execution_count": 17,
   "metadata": {},
   "outputs": [],
   "source": [
    "# initilize our estimator (w lin. reg. algorithm)\n",
    "estimator = LinearRegression()\n",
    "\n",
    "# specify stepwise params\n",
    "stepwise_selector = SFS(estimator, \n",
    "    k_features = 200, # stop after 200 steps\n",
    "    forward = True, \n",
    "    scoring = 'neg_mean_squared_error', # for regression\n",
    "    cv = cv_split  # explicitly pass validation set indices\n",
    "    )"
   ]
  },
  {
   "cell_type": "markdown",
   "metadata": {},
   "source": [
    "#### *NOTE: Fitting the selector took about ~15 minutes to run*\n",
    "\n",
    "- We download the fitted selector from my github repo and load it directly to save run-time.\n",
    "\n",
    "### NOTE: The next code block will download a small zip file (<1MB) from the following github repo:\n",
    "\n",
    "https://github.com/lukefiorio/secom"
   ]
  },
  {
   "cell_type": "code",
   "execution_count": 18,
   "metadata": {},
   "outputs": [],
   "source": [
    "import os\n",
    "import requests\n",
    "import zipfile\n",
    "\n",
    "# make directory to store fitted SFS model from milestone 1\n",
    "if not os.path.exists('models_lfiorio'):\n",
    "    os.makedirs('models_lfiorio')\n",
    "\n",
    "# download the file if not already downloaded\n",
    "if not os.path.isfile('models_lfiorio/secom-main/stepwise_selector.joblib'):\n",
    "    \n",
    "    # make API request to pull down github repo\n",
    "    url = 'https://github.com/lukefiorio/secom/archive/main.zip'\n",
    "    r = requests.get(url)\n",
    "\n",
    "    # set file path, name\n",
    "    file_name = 'models_lfiorio/models.zip'\n",
    "\n",
    "    # write zip file\n",
    "    with open(file_name, 'wb') as fd:\n",
    "        for chunk in r.iter_content(chunk_size=128):\n",
    "            fd.write(chunk)\n",
    "\n",
    "    # unzip the file\n",
    "    with zipfile.ZipFile(file_name, 'r') as zip_ref:\n",
    "        zip_ref.extractall('models_lfiorio')\n",
    "\n",
    "    # remove the original zipped file\n",
    "    os.remove(file_name)"
   ]
  },
  {
   "cell_type": "markdown",
   "metadata": {},
   "source": [
    "*Original code used to fit the stepwise selector*"
   ]
  },
  {
   "cell_type": "code",
   "execution_count": 19,
   "metadata": {},
   "outputs": [],
   "source": [
    "# # train selector\n",
    "# stepwise_selector = stepwise_selector.fit(X_train_valid_smote, y_train_valid_smote)\n",
    "# dump(stepwise_selector, 'models_lfiorio/stepwise_selector.joblib') "
   ]
  },
  {
   "cell_type": "markdown",
   "metadata": {},
   "source": [
    "And now simply load the downloaded file"
   ]
  },
  {
   "cell_type": "code",
   "execution_count": 20,
   "metadata": {},
   "outputs": [],
   "source": [
    "# load fitted imputation model\n",
    "stepwise_selector = load('models_lfiorio/secom-main/stepwise_selector.joblib') "
   ]
  },
  {
   "cell_type": "markdown",
   "metadata": {},
   "source": [
    "### Find the best Forward Selection model.\n",
    "\n",
    "The best step was the one with the lowest abs. error. We took this extra step to identify the best step since we specified `k_features = 200` (rather than using \"parsimonious\") "
   ]
  },
  {
   "cell_type": "code",
   "execution_count": 21,
   "metadata": {},
   "outputs": [
    {
     "name": "stderr",
     "output_type": "stream",
     "text": [
      "/opt/anaconda3/envs/uwdatasci400/lib/python3.6/site-packages/numpy/core/_methods.py:217: RuntimeWarning: Degrees of freedom <= 0 for slice\n",
      "  keepdims=keepdims)\n",
      "/opt/anaconda3/envs/uwdatasci400/lib/python3.6/site-packages/numpy/core/_methods.py:209: RuntimeWarning: invalid value encountered in double_scalars\n",
      "  ret = ret.dtype.type(ret / rcount)\n"
     ]
    }
   ],
   "source": [
    "# set default values\n",
    "best_step = 0\n",
    "error = -999999\n",
    "\n",
    "# loop through step scores to find best step\n",
    "for i in stepwise_selector.get_metric_dict():\n",
    "    i_error = stepwise_selector.get_metric_dict()[i]['avg_score']\n",
    "    if i_error > error:\n",
    "        best_step = i\n",
    "        error = i_error"
   ]
  },
  {
   "cell_type": "markdown",
   "metadata": {},
   "source": [
    "Store features from the best step and read out the count (135)."
   ]
  },
  {
   "cell_type": "code",
   "execution_count": 22,
   "metadata": {},
   "outputs": [
    {
     "name": "stdout",
     "output_type": "stream",
     "text": [
      "feature cnt: 135\n"
     ]
    }
   ],
   "source": [
    "# store info on best step\n",
    "# best_step = best_selector.shape[1] # nbr of features in best step\n",
    "best_step_metrics = stepwise_selector.get_metric_dict()[best_step] # store dict of best model\n",
    "best_step_features = list(best_step_metrics['feature_names']) # access dict: feature names\n",
    "\n",
    "# show best model step & features\n",
    "print('feature cnt:', best_step)\n",
    "# best_step_features"
   ]
  },
  {
   "cell_type": "markdown",
   "metadata": {},
   "source": [
    "### Lasso Regression\n",
    "\n",
    "Lasso Regression adds a penalty term based on the absolute value of the coefficients on each feature.  As the penalty term gets bigger, more & more of the features used have their coefficients shrink to 0.\n",
    "\n",
    "Almost immediately (alpha = 0.01), the # of features get cut in half.  Around alpha = 0.025 the # of features start to hit an inflection point.  Not until about alpha = 0.1 does the # of features remaining begin to stabilize a bit."
   ]
  },
  {
   "cell_type": "markdown",
   "metadata": {},
   "source": [
    "Run Lasso Regression once for each value of alpha and store the coefficients."
   ]
  },
  {
   "cell_type": "code",
   "execution_count": 23,
   "metadata": {},
   "outputs": [],
   "source": [
    "# seq of penalty values ('alphas') to try\n",
    "alphas = np.linspace(0.003125, 0.15, 48)\n",
    "num_coefs = X_train_smote.shape[1]\n",
    "\n",
    "# Store coefficients for each alpha:\n",
    "coef_cols = [i for i in X_train_smote.columns] + ['intercept']\n",
    "alpha_df = pd.DataFrame(columns=coef_cols)\n",
    "\n",
    "for a in alphas:\n",
    "    # Fit model\n",
    "    clf_temp = linear_model.Lasso(alpha=a, tol=0.1, random_state = random_state)\n",
    "    clf_temp.fit(X_train_smote, y_train_smote)\n",
    "    # Get coefficients + intercept\n",
    "    coef_nums = np.append(clf_temp.coef_, clf_temp.intercept_)\n",
    "\n",
    "    alpha_df = alpha_df.append(dict(zip(coef_cols, coef_nums)), ignore_index=True)\n",
    "\n",
    "# set index values to penalty terms\n",
    "alpha_df.index = alphas"
   ]
  },
  {
   "cell_type": "markdown",
   "metadata": {},
   "source": [
    "We selected the model with regularization penalty (alpha) = 0.025 and stored the features that had non-zero coefficients (132)."
   ]
  },
  {
   "cell_type": "code",
   "execution_count": 24,
   "metadata": {
    "scrolled": false
   },
   "outputs": [
    {
     "name": "stdout",
     "output_type": "stream",
     "text": [
      "feature cnt: 132\n"
     ]
    }
   ],
   "source": [
    "lasso_cols = alpha_df.loc[0.025]\n",
    "lasso_cols = list(lasso_cols[lasso_cols != 0].index)\n",
    "\n",
    "# remove the intercept column from the list\n",
    "del lasso_cols[-1]\n",
    "\n",
    "print('feature cnt:', len(lasso_cols))"
   ]
  },
  {
   "cell_type": "markdown",
   "metadata": {},
   "source": [
    "### Combining the Feature Selection Methods\n",
    "\n",
    "Using the above techniques, we settled on a set of potential features to keep.  We then examined the number of features kept by each method as well as their overlap.\n",
    "\n",
    "Using our judgement, we kept features that appeared in **at least** two of the three methods.  This came out to 95 features."
   ]
  },
  {
   "cell_type": "code",
   "execution_count": 25,
   "metadata": {},
   "outputs": [
    {
     "name": "stdout",
     "output_type": "stream",
     "text": [
      "# of selected features for modeling: 95\n"
     ]
    }
   ],
   "source": [
    "from collections import Counter\n",
    "\n",
    "# combine selected features into large list (with dupes)\n",
    "features_list = mid_mi_cols + best_step_features + lasso_cols\n",
    "\n",
    "# apply counter to count # of occurences of each feature (while de-duping)\n",
    "feature_cnt_dict = Counter(features_list)\n",
    "feature_cnt_df = pd.DataFrame.from_dict(feature_cnt_dict, orient='index').reset_index()\n",
    "\n",
    "# selected features\n",
    "selected_features = list(feature_cnt_df['index'][feature_cnt_df[0]>1])\n",
    "\n",
    "print('# of selected features for modeling:', len(selected_features))"
   ]
  },
  {
   "cell_type": "markdown",
   "metadata": {},
   "source": [
    "## Modeling"
   ]
  },
  {
   "cell_type": "markdown",
   "metadata": {},
   "source": [
    "### Benchmark model - Decision Tree\n",
    "\n",
    "In Milestone 2 we built the following models to predict manufacturing errors:\n",
    "\n",
    "- **Decision Tree** *(best model)*\n",
    "- Random Forest\n",
    "- SVM Classifier\n",
    "\n",
    "Before building Neural Network models, we'll recreate our best model (Decision Tree) from that project."
   ]
  },
  {
   "cell_type": "markdown",
   "metadata": {},
   "source": [
    "We'll start by filtering our train-validate-test sets down to just the features we selected above."
   ]
  },
  {
   "cell_type": "code",
   "execution_count": 26,
   "metadata": {},
   "outputs": [],
   "source": [
    "# filter our train-validate-test data to just our selected features\n",
    "X_train_reduced = X_train_smote[selected_features]\n",
    "X_valid_reduced = X_valid_smote[selected_features]\n",
    "X_test_reduced = X_test_znorm[selected_features]"
   ]
  },
  {
   "cell_type": "markdown",
   "metadata": {},
   "source": [
    "And now we'll fit the model using our best hyperparameters from Milestone 2.\n",
    "- `max_leaf_nodes = 30`\n",
    "- `min_samples_leaf = 10`\n",
    "- `max_depth = 5`\n",
    "\n",
    "In addition to fitting the model, we'll also continue on to make predictions on the test set to remind ourselves of our benchmark."
   ]
  },
  {
   "cell_type": "code",
   "execution_count": 27,
   "metadata": {},
   "outputs": [],
   "source": [
    "# best model: Decision Tree\n",
    "tree = DecisionTreeClassifier(criterion = 'gini', \n",
    "                              random_state = random_state, \n",
    "                              max_leaf_nodes = 30,\n",
    "                              min_samples_leaf = 10,\n",
    "                              max_depth = 5)\n",
    "\n",
    "# fit model\n",
    "tree.fit(X_train_reduced, y_train_smote)\n",
    "\n",
    "# make predictions on the test set\n",
    "y_test_hat_tree = tree.predict(X_test_reduced)"
   ]
  },
  {
   "cell_type": "markdown",
   "metadata": {},
   "source": [
    "To evaluate our Decision Tree we'll define functions to clearly present our accuracy metrics and the confusion matrix.\n",
    "\n",
    "We'll start with a function for the accuracy report (f1, precision, recall, etc.)."
   ]
  },
  {
   "cell_type": "code",
   "execution_count": 28,
   "metadata": {},
   "outputs": [],
   "source": [
    "def accuracy_report(y, y_hat):\n",
    "    \n",
    "    # store accuracy metrics (f1, precision, recall, accuracy, + full report)\n",
    "    f1 = f1_score(y, y_hat, pos_label = 1)\n",
    "    precision = precision_score(y, y_hat, pos_label = 1)\n",
    "    recall = recall_score(y, y_hat, pos_label = 1)\n",
    "    accuracy = accuracy_score(y, y_hat)\n",
    "    class_rpt = classification_report(y, y_hat, zero_division = 0)\n",
    "    \n",
    "    # print accuracy measures\n",
    "    print(\"f1: \", round(f1, 4))\n",
    "    print(\"precision: \", round(precision, 4))\n",
    "    print(\"recall: \", round(recall, 4))\n",
    "    print(\"accuracy: \", round(accuracy, 4))\n",
    "    print(\"==================================\")\n",
    "    print(class_rpt)"
   ]
  },
  {
   "cell_type": "markdown",
   "metadata": {},
   "source": [
    "And now define our confusion matrix function."
   ]
  },
  {
   "cell_type": "code",
   "execution_count": 29,
   "metadata": {},
   "outputs": [],
   "source": [
    "def format_cm(y, y_hat, title, labels, norm):\n",
    "    ''' norm = { 'true', 'pred', 'all', None }'''\n",
    "    \n",
    "    # store (normalized) confusion matrix\n",
    "    cm = np.round(confusion_matrix(y, y_hat, normalize = norm), 3)\n",
    "\n",
    "    # configure confusion matrix plot\n",
    "    fig = plt.figure()\n",
    "    ax = fig.add_subplot(111)\n",
    "    cax = ax.matshow(cm)\n",
    "    plt.title(title)\n",
    "    fig.colorbar(cax)\n",
    "    ax.set_xticklabels([''] + labels)\n",
    "    ax.set_yticklabels([''] + labels)\n",
    "    plt.xlabel('Predicted')\n",
    "    plt.ylabel('Actual')\n",
    "\n",
    "    # show plot and confusion matrix\n",
    "    plt.show()\n",
    "    print(cm)"
   ]
  },
  {
   "cell_type": "markdown",
   "metadata": {},
   "source": [
    "#### Evaluate Decision Tree Accuracy\n",
    "\n",
    "We notice that while the Decision Tree model has only modest accuracy (`0.79`), it *does* have relatively highest recall on the positive class (manufacturing failures) given the class imbalance. At `0.60` the recall was noticeably better than our other two models (`0.20` each).\n",
    "\n",
    "The precision on the Decision Tree model is a bit low on the positive class (`0.17`), but not to an untenable degree given our purpose. Consider a human auditor checking \"flagged\" diapers and finding a true defect one-in-six times.\n",
    "\n",
    "Given the relatively low prevalence of failures, and the higher cost of missing a failure than \"missing\" a success... this seems like a reasonable benchmark to start from."
   ]
  },
  {
   "cell_type": "code",
   "execution_count": 30,
   "metadata": {},
   "outputs": [
    {
     "name": "stdout",
     "output_type": "stream",
     "text": [
      "f1:  0.2667\n",
      "precision:  0.1714\n",
      "recall:  0.6\n",
      "accuracy:  0.7898\n",
      "==================================\n",
      "              precision    recall  f1-score   support\n",
      "\n",
      "          -1       0.97      0.80      0.88       147\n",
      "           1       0.17      0.60      0.27        10\n",
      "\n",
      "    accuracy                           0.79       157\n",
      "   macro avg       0.57      0.70      0.57       157\n",
      "weighted avg       0.92      0.79      0.84       157\n",
      "\n"
     ]
    }
   ],
   "source": [
    "# accuracy metrics: Decision Tree\n",
    "accuracy_report(y_test, y_test_hat_tree)"
   ]
  },
  {
   "cell_type": "code",
   "execution_count": 31,
   "metadata": {},
   "outputs": [
    {
     "data": {
      "image/png": "[encoded data removed]",
      "text/plain": [
       "<Figure size 432x288 with 2 Axes>"
      ]
     },
     "metadata": {
      "needs_background": "light"
     },
     "output_type": "display_data"
    },
    {
     "name": "stdout",
     "output_type": "stream",
     "text": [
      "[[0.803 0.197]\n",
      " [0.4   0.6  ]]\n"
     ]
    }
   ],
   "source": [
    "# confusion matrix: Decision Tree\n",
    "format_cm(y_test, y_test_hat_tree, \"Manufacturing Error\", [\"No\", \"Yes\"], \"true\")"
   ]
  },
  {
   "cell_type": "markdown",
   "metadata": {},
   "source": [
    "### Neural Networks"
   ]
  },
  {
   "cell_type": "markdown",
   "metadata": {},
   "source": [
    "We want to test out a few different training parameters, so we'll start by defining a function that build an artificial neural network (ANN) for prediction on our binary target (red/white wine).\n",
    "\n",
    "We pass in data to train and test on, and specify:\n",
    "- \\# of epochs\n",
    "- batch size\n",
    "- learning rate\n",
    "- hidden layers (depth AND size)\n",
    "- dropout rate (optional)\n",
    "\n",
    "Between hidden layers, we'll use a ReLU activation function (Rectified Linear Unit. `max(0, x)`).  In our final output layer, we'll use a sigmoid activation function.\n",
    "\n",
    "We center our initial weights around 0 (random `~N(0, 1)`) and our bias terms at 0.  Since we've standardized our data, this should be a reasonable starting point."
   ]
  },
  {
   "cell_type": "code",
   "execution_count": 32,
   "metadata": {},
   "outputs": [],
   "source": [
    "def ann_binary(X_train, y_train, X_test, y_test, \n",
    "               epochs, batch_size, learning_rate, hidden_layers, \n",
    "               dropout=0, verbose=1):\n",
    "    '''\n",
    "    epochs. int: # of training epochs\n",
    "    batch_size. int: # of observations per training batch\n",
    "    learning_rate. float: initial learning rate of NN\n",
    "    hidden_layers. [int]: array of hidden node sizes\n",
    "    dropout. float: percent of nodes to force-zero in each hidden layer\n",
    "    verbose. int: whether to display fitting progress (0, 1)\n",
    "    '''\n",
    "    \n",
    "    # clear pre-existing models if needed\n",
    "    tf.keras.backend.clear_session()\n",
    "    \n",
    "    # cnt of features\n",
    "    n_features = X_train.shape[1]\n",
    "    \n",
    "    # initialize model\n",
    "    model = tf.keras.Sequential()\n",
    "    \n",
    "    # Add layers sequentially\n",
    "    for h_index, h_val in enumerate(hidden_layers):\n",
    "\n",
    "        # hidden layer 1\n",
    "        if h_index == 0:\n",
    "            \n",
    "            # dense layer, with input dimensions set\n",
    "            model.add(Dense(\n",
    "                units = h_val, \n",
    "                activation='relu', \n",
    "                kernel_initializer='random_normal', \n",
    "                input_shape=(n_features,)\n",
    "            ))\n",
    "\n",
    "        # hidden layers 2 thru n\n",
    "        else:\n",
    "            \n",
    "            # dense layer, input dimensions inferred\n",
    "            model.add(Dense(\n",
    "                units = h_val, \n",
    "                activation='relu',\n",
    "                kernel_initializer='random_normal'\n",
    "            ))\n",
    "            \n",
    "            # if dropout was specified, apply it here\n",
    "            if (0 < dropout < 1): model.add(Dropout(rate=dropout))\n",
    "\n",
    "    # add final (output) layer\n",
    "    model.add(Dense(units = 1, activation='sigmoid'))\n",
    "\n",
    "    # Setup model with ADAM optimization and cross entropy loss.\n",
    "    opt = tf.keras.optimizers.Adam(learning_rate = learning_rate)\n",
    "    model.compile(optimizer = opt, loss = 'binary_crossentropy', metrics = ['accuracy'])\n",
    "    \n",
    "    # fit the model and validate against a test set\n",
    "    model_logs = model.fit(X_train, y_train,\n",
    "                           epochs = epochs,\n",
    "                           batch_size = batch_size,\n",
    "                           validation_data = (X_test, y_test), \n",
    "                           verbose = verbose\n",
    "                          )\n",
    "    \n",
    "    # return the model itself AND the accuracy logs\n",
    "    return model, model_logs"
   ]
  },
  {
   "cell_type": "markdown",
   "metadata": {},
   "source": [
    "And we also define a function to help visualize how the neural network is learning over each epoch. We'll also report out how its final epoch performs on a validation set."
   ]
  },
  {
   "cell_type": "code",
   "execution_count": 33,
   "metadata": {},
   "outputs": [],
   "source": [
    "def model_plots(model, test_set=\"Test\"):\n",
    "\n",
    "    # cnt of epochs\n",
    "    epochs = len(model.history['accuracy'])\n",
    "    final_valid_acc = model.history['val_accuracy'][epochs-1]\n",
    "    final_valid_loss = model.history['val_loss'][epochs-1]\n",
    "    \n",
    "    # set figure, axis properties\n",
    "    fig, ax = plt.subplots(ncols = 2, nrows = 1)\n",
    "    fig.set_size_inches(16, 4)\n",
    "    fig.tight_layout(h_pad = 6, w_pad = 12)\n",
    "\n",
    "    # make accuracy plot\n",
    "    sns.lineplot(x = range(1, epochs + 1), y = model.history['accuracy'], ax = ax[0], label = \"Train\");\n",
    "    sns.lineplot(x = range(1, epochs + 1), y = model.history['val_accuracy'], ax = ax[0], label = test_set);\n",
    "    ax[0].title.set_text('Model Accuracy');\n",
    "    ax[0].xaxis.set_major_locator(MaxNLocator(integer=True))\n",
    "    ax[0].set_xlabel('Epochs')\n",
    "    ax[0].legend();\n",
    "    \n",
    "    # make loss plot\n",
    "    sns.lineplot(x = range(1, epochs + 1), y = model.history['loss'], ax = ax[1], label = \"Train\");\n",
    "    sns.lineplot(x = range(1, epochs + 1), y = model.history['val_loss'], ax = ax[1], label = test_set);\n",
    "    ax[1].title.set_text('Model Loss');\n",
    "    ax[1].xaxis.set_major_locator(MaxNLocator(integer=True))\n",
    "    ax[1].set_xlabel('Epochs')\n",
    "    ax[1].legend();\n",
    "    \n",
    "    # print final stats\n",
    "    print('\\n', test_set, 'Accuracy:', round(final_valid_acc, 3),'\\n', test_set, 'Loss:', round(final_valid_loss, 3))"
   ]
  },
  {
   "cell_type": "markdown",
   "metadata": {},
   "source": [
    "And before doing any training, let's make sure to map our target to `(0, 1)`.  We had been using a `(-1, 1)` mapping to assist with SVM fitting earlier, but need to make sure the target is as tensorflow expects!"
   ]
  },
  {
   "cell_type": "code",
   "execution_count": 34,
   "metadata": {},
   "outputs": [],
   "source": [
    "y_train_smote_nn = y_train_smote.map({-1:0, 1:1})\n",
    "y_valid_smote_nn = y_valid_smote.map({-1:0, 1:1})\n",
    "y_test_nn = y_test.map({-1:0, 1:1})"
   ]
  },
  {
   "cell_type": "markdown",
   "metadata": {},
   "source": [
    "After trying out a few models, we find one that appears to learn without suffering too heavily from overfitting.\n",
    "\n",
    "Our network learns over 25 epochs, with learning rate of 0.002 (just above the default of 0.001).  We have 2 hidden layers (of size 8, 4), with very high dropout (0.75) to help regularize the model.\n",
    "\n",
    "We hide the output, for brevity sake."
   ]
  },
  {
   "cell_type": "code",
   "execution_count": 35,
   "metadata": {},
   "outputs": [],
   "source": [
    "# fit model and store logs\n",
    "ann_model, ann_model_logs = ann_binary(\n",
    "    X_train = X_train_reduced,\n",
    "    y_train = y_train_smote_nn,\n",
    "    X_test = X_valid_reduced,\n",
    "    y_test = y_valid_smote_nn,\n",
    "    epochs = 25,\n",
    "    batch_size = 1024,\n",
    "    learning_rate = 0.002,\n",
    "    hidden_layers = [8, 4],\n",
    "    dropout = 0.75,\n",
    "    verbose = 0\n",
    "    )  "
   ]
  },
  {
   "cell_type": "markdown",
   "metadata": {},
   "source": [
    "Looking at how the model learned, it's a bit choppy, but we do appear to see gradual improvement over time.  Accuracy on the \\[balanced\\] validation set comes in around 62%.  Looking back to our Milestone 2 results, our Decision Tree had 59% accuracy on the \\[balanced\\] validation set; so it appears we may have seen slight improvement.\n",
    "\n",
    "Of course, the test accuracy is what's important so we'll examine that next."
   ]
  },
  {
   "cell_type": "code",
   "execution_count": 36,
   "metadata": {
    "scrolled": false
   },
   "outputs": [
    {
     "name": "stdout",
     "output_type": "stream",
     "text": [
      "\n",
      " Validation Accuracy: 0.616 \n",
      " Validation Loss: 0.658\n"
     ]
    },
    {
     "data": {
      "image/png": "[encoded data removed]",
      "text/plain": [
       "<Figure size 1152x288 with 2 Axes>"
      ]
     },
     "metadata": {
      "needs_background": "light"
     },
     "output_type": "display_data"
    }
   ],
   "source": [
    "model_plots(ann_model_logs, test_set = \"Validation\")"
   ]
  },
  {
   "cell_type": "markdown",
   "metadata": {},
   "source": [
    "Next we make predictions and evaluate overall accuracy.  There are few things worth noting here.\n",
    "\n",
    "First is that our test accuracy was 82.2%, which is an improvement over our decision tree which had 79% accuracy. This is the accuracy on the actual production data (we did not adjust for class imbalance in our test data).\n",
    "\n",
    "We also notice that our train set accuracy is actually much higher (89.5%) than during our neural network training (65.7%)... this is because of our dropout regularization.  The predictions below aren't randomly dropping some of our weights when making the prediction.\n",
    "\n",
    "Lastly, we also note that the validation accuracy is different (lower) than test accuracy, partly due to randomness and leakage, but mostly due to differences in class balance."
   ]
  },
  {
   "cell_type": "code",
   "execution_count": 37,
   "metadata": {},
   "outputs": [
    {
     "name": "stdout",
     "output_type": "stream",
     "text": [
      "Accuracy - Train: 0.895\n",
      "Accuracy - Valid: 0.616\n",
      "Accuracy -  Test: 0.822\n"
     ]
    }
   ],
   "source": [
    "# make soft predictions (probabilities)\n",
    "y_train_hat_ann = ann_model.predict(X_train_reduced)\n",
    "y_valid_hat_ann = ann_model.predict(X_valid_reduced)\n",
    "y_test_hat_ann = ann_model.predict(X_test_reduced)\n",
    "\n",
    "# calculate accuracy\n",
    "train_acc_nn = accuracy_score(np.round(np.squeeze(y_train_hat_ann)), y_train_smote_nn)\n",
    "valid_acc_nn = accuracy_score(np.round(np.squeeze(y_valid_hat_ann)), y_valid_smote_nn)\n",
    "test_acc_nn = accuracy_score(np.round(np.squeeze(y_test_hat_ann)), y_test_nn)\n",
    "\n",
    "# print results\n",
    "print(\"Accuracy - Train:\", np.round(train_acc_nn, 3))\n",
    "print(\"Accuracy - Valid:\", np.round(valid_acc_nn, 3))\n",
    "print(\"Accuracy -  Test:\", np.round(test_acc_nn, 3))"
   ]
  },
  {
   "cell_type": "markdown",
   "metadata": {},
   "source": [
    "Examining the accuracy report and confusion matrix, we see that we still achieved 60% recall on defective products, albeit with slightly better precision (20% vs 17%).  That's to say that the QA team would still catch just as many of the defects, but with this model one-in-five of inspected products would be defective (as opposed to one-in-six with the decision tree)."
   ]
  },
  {
   "cell_type": "code",
   "execution_count": 38,
   "metadata": {},
   "outputs": [
    {
     "name": "stdout",
     "output_type": "stream",
     "text": [
      "f1:  0.3\n",
      "precision:  0.2\n",
      "recall:  0.6\n",
      "accuracy:  0.8217\n",
      "==================================\n",
      "              precision    recall  f1-score   support\n",
      "\n",
      "           0       0.97      0.84      0.90       147\n",
      "           1       0.20      0.60      0.30        10\n",
      "\n",
      "    accuracy                           0.82       157\n",
      "   macro avg       0.58      0.72      0.60       157\n",
      "weighted avg       0.92      0.82      0.86       157\n",
      "\n"
     ]
    }
   ],
   "source": [
    "# accuracy metrics: Neural Network\n",
    "accuracy_report(y_test_nn, np.round(y_test_hat_ann))"
   ]
  },
  {
   "cell_type": "code",
   "execution_count": 39,
   "metadata": {
    "scrolled": true
   },
   "outputs": [
    {
     "data": {
      "image/png": "[encoded data removed]",
      "text/plain": [
       "<Figure size 432x288 with 2 Axes>"
      ]
     },
     "metadata": {
      "needs_background": "light"
     },
     "output_type": "display_data"
    },
    {
     "name": "stdout",
     "output_type": "stream",
     "text": [
      "[[0.837 0.163]\n",
      " [0.4   0.6  ]]\n"
     ]
    }
   ],
   "source": [
    "# confusion matrix: Neural Network\n",
    "format_cm(y_test_nn, np.round(y_test_hat_ann), \"Manufacturing Error\", [\"No\", \"Yes\"], \"true\")"
   ]
  },
  {
   "cell_type": "markdown",
   "metadata": {},
   "source": [
    "### Convolutional Neural Network (CNN)\n",
    "\n",
    "For our next model we will build a **1D convolutional** neural network (CNN). Our CNN model will iterate sequentially through our best features (the ones we reduced to earlier) using smoothing windows.\n",
    "\n",
    "We choose to try a CNN model here rather than RNN (recurrent NN) because we expect that a CNN will be better able to propagate weights forward (RNN has a tendency to \"forget\" as it goes)."
   ]
  },
  {
   "cell_type": "markdown",
   "metadata": {},
   "source": [
    "#### Reshape data\n",
    "\n",
    "We'll start by reshaping our X datasets (features) to add a dimension.  For a 1D CNN, Keras assumes that we will have two-dimensional data, so we'll add a dummy dimension to accommodate that."
   ]
  },
  {
   "cell_type": "code",
   "execution_count": 40,
   "metadata": {},
   "outputs": [],
   "source": [
    "# extract shape info (features, rows)\n",
    "n_obs_train, n_features = X_train_reduced.shape\n",
    "n_obs_valid = X_valid_reduced.shape[0]\n",
    "n_obs_test = X_test_reduced.shape[0]\n",
    "\n",
    "# reshape our features data to add a dimension (for CNN)\n",
    "XC_train_reduced = X_train_reduced.values.reshape(n_obs_train, n_features, 1)\n",
    "XC_valid_reduced = X_valid_reduced.values.reshape(n_obs_valid, n_features, 1)\n",
    "XC_test_reduced = X_test_reduced.values.reshape(n_obs_test, n_features, 1)"
   ]
  },
  {
   "cell_type": "markdown",
   "metadata": {},
   "source": [
    "#### Build Model\n",
    "\n",
    "After trying a few different combinations, we build the following CNN model.  It consists of 2 hidden layers, with a ReLU activation function on each.  We also apply max pooling between the two hidden layers to smooth our output.\n",
    "\n",
    "To help with regularization, we also apply L2 kernel regularization on each of our hidden layers, which a much higher penalty on our first layer.\n",
    "\n",
    "We flatten back to 1D before adding our final output layer (which is activated by a sigmoid).  We specify `units = 1` because this is a binary classification problem."
   ]
  },
  {
   "cell_type": "code",
   "execution_count": 41,
   "metadata": {
    "scrolled": false
   },
   "outputs": [],
   "source": [
    "# clear model (if necessary)\n",
    "tf.keras.backend.clear_session()\n",
    "\n",
    "# initialize model\n",
    "cnn_model = tf.keras.Sequential()\n",
    "\n",
    "# add convolutional layer\n",
    "cnn_model.add(Conv1D(filters = 64,  # output 64 sets of weights \n",
    "                     kernel_size = 8, # fit (64 * 8) + (64) = 576 weights\n",
    "                     strides = 2,\n",
    "                     padding = 'same',\n",
    "                     input_shape = (n_features, 1), # accept 95x1 matrix\n",
    "                     activation = 'relu',\n",
    "                     kernel_regularizer=regularizers.l2(l = 0.5), # apply hefty regularization\n",
    "                     data_format = 'channels_last'\n",
    "                    ))\n",
    "\n",
    "# add condensed layer (via max pooling) \n",
    "cnn_model.add(MaxPooling1D(pool_size = 2, strides = 1))\n",
    "\n",
    "# add convolutional layer\n",
    "cnn_model.add(Conv1D(filters = 16,  # output 16 sets of weights \n",
    "                     kernel_size = 2, # fit (16 * 2) + (16) = 6,176 weights\n",
    "                     dilation_rate = 1,\n",
    "                     padding = 'same',\n",
    "                     input_shape = (n_features, 1), # accept 95x1\n",
    "                     activation = 'relu',\n",
    "                     kernel_regularizer=regularizers.l2(l = 0.05), # apply light regularization\n",
    "                     data_format = 'channels_last'\n",
    "                    ))\n",
    "\n",
    "# flatten back to 1d\n",
    "cnn_model.add(Flatten())\n",
    "\n",
    "# add our output layer\n",
    "cnn_model.add(Dense(units = 1, activation = 'sigmoid'))"
   ]
  },
  {
   "cell_type": "markdown",
   "metadata": {},
   "source": [
    "From our model summary, we can see how the above calculations played out.\n",
    "\n",
    "- In our initial layer, the output shape is 48x64.  The 48 comes from the number of iterations the filter makes on each observation (95 features at stride 2 > 48 steps).  The 64 is from our chosen # of filters.\n",
    "- The # of parameters is 576.  This comes from our (64 filters * 8 kernels size) + 64 bias terms. \n",
    "- Max Pooling decreases the 48 steps to 47 (at stride 1, pooling by 2 only reduces steps by 1); it does not affect the # of filters.\n",
    "- At our next hidden layer, we output 2,064 parameters.  This comes from the prior dimensions (64) * filters (16) * kernel size (2) + 16 bias terms.\n",
    "- Flattening results in 752 features (47 * 16 from our Max Pooling shape)\n",
    "- Finally, our last layer has 753 parameters (752 + 1 bias)"
   ]
  },
  {
   "cell_type": "code",
   "execution_count": 42,
   "metadata": {},
   "outputs": [
    {
     "name": "stdout",
     "output_type": "stream",
     "text": [
      "Model: \"sequential\"\n",
      "_________________________________________________________________\n",
      "Layer (type)                 Output Shape              Param #   \n",
      "=================================================================\n",
      "conv1d (Conv1D)              (None, 48, 64)            576       \n",
      "_________________________________________________________________\n",
      "max_pooling1d (MaxPooling1D) (None, 47, 64)            0         \n",
      "_________________________________________________________________\n",
      "conv1d_1 (Conv1D)            (None, 47, 16)            2064      \n",
      "_________________________________________________________________\n",
      "flatten (Flatten)            (None, 752)               0         \n",
      "_________________________________________________________________\n",
      "dense (Dense)                (None, 1)                 753       \n",
      "=================================================================\n",
      "Total params: 3,393\n",
      "Trainable params: 3,393\n",
      "Non-trainable params: 0\n",
      "_________________________________________________________________\n"
     ]
    }
   ],
   "source": [
    "cnn_model.summary()"
   ]
  },
  {
   "cell_type": "markdown",
   "metadata": {},
   "source": [
    "#### Fit Model\n",
    "\n",
    "Next we fit our model on our reshaped data.  We apply the default learning rate of `0.001` and much smaller batch size of `64` (compared `1024` in our first neural network)."
   ]
  },
  {
   "cell_type": "code",
   "execution_count": 43,
   "metadata": {},
   "outputs": [],
   "source": [
    "# initialize\n",
    "opt = tf.keras.optimizers.Adam(learning_rate=0.001)\n",
    "cnn_model.compile(loss='binary_crossentropy', optimizer=opt, metrics = ['accuracy'])\n",
    "\n",
    "# fit model\n",
    "cnn_model_logs = cnn_model.fit(XC_train_reduced, y_train_smote_nn,\n",
    "                               epochs=10,\n",
    "                               batch_size=64,\n",
    "                               validation_data=(XC_valid_reduced, y_valid_smote_nn),\n",
    "                               verbose = 0)"
   ]
  },
  {
   "cell_type": "markdown",
   "metadata": {},
   "source": [
    "#### Validation Accuracy\n",
    "\n",
    "Looking at how this model learned, the increase is also a bit choppy, but the loss (on both training and validation) decreases smoothly.  There is some overfitting (accuracy on the train dataset appears to be 5-10% better than on validation), but not too drastic.\n",
    "\n",
    "Comparing accuracy on the \\[balanced\\] validation from this model (69%) to our prior models, it looks like we could see modest improvement on our test set.  Our prior two models (Tree, NN) had validation accuracy of 59% and 62%, respectively. \n",
    "\n",
    "Of course, the test accuracy is what's important so we'll examine that next."
   ]
  },
  {
   "cell_type": "code",
   "execution_count": 44,
   "metadata": {},
   "outputs": [
    {
     "name": "stdout",
     "output_type": "stream",
     "text": [
      "\n",
      " Validation Accuracy: 0.687 \n",
      " Validation Loss: 0.695\n"
     ]
    },
    {
     "data": {
      "image/png": "[encoded data removed]",
      "text/plain": [
       "<Figure size 1152x288 with 2 Axes>"
      ]
     },
     "metadata": {
      "needs_background": "light"
     },
     "output_type": "display_data"
    }
   ],
   "source": [
    "model_plots(cnn_model_logs, test_set = \"Validation\")"
   ]
  },
  {
   "cell_type": "markdown",
   "metadata": {},
   "source": [
    "#### Test Accuracy\n",
    "\n",
    "Next we make predictions and evaluate overall accuracy.\n",
    "\n",
    "We note that our test accuracy was 69.4%, which is noticeably worse than our decision tree and NN models (79%, 82%, respectively).  This isn't a great omen, but perhaps our model gets better recall on our positive class (manufacturing defects), which is what we're most interested in detecting."
   ]
  },
  {
   "cell_type": "code",
   "execution_count": 45,
   "metadata": {},
   "outputs": [
    {
     "name": "stdout",
     "output_type": "stream",
     "text": [
      "Accuracy - Train: 0.775\n",
      "Accuracy - Valid: 0.687\n",
      "Accuracy -  Test: 0.694\n"
     ]
    }
   ],
   "source": [
    "# make soft predictions (probabilities)\n",
    "y_train_hat_cnn = cnn_model.predict(XC_train_reduced)\n",
    "y_valid_hat_cnn = cnn_model.predict(XC_valid_reduced)\n",
    "y_test_hat_cnn = cnn_model.predict(XC_test_reduced)\n",
    "\n",
    "# calculate accuracy\n",
    "train_acc_cnn = accuracy_score(np.round(np.squeeze(y_train_hat_cnn)), y_train_smote_nn)\n",
    "valid_acc_cnn = accuracy_score(np.round(np.squeeze(y_valid_hat_cnn)), y_valid_smote_nn)\n",
    "test_acc_cnn = accuracy_score(np.round(np.squeeze(y_test_hat_cnn)), y_test_nn)\n",
    "\n",
    "# print results\n",
    "print(\"Accuracy - Train:\", np.round(train_acc_cnn, 3))\n",
    "print(\"Accuracy - Valid:\", np.round(valid_acc_cnn, 3))\n",
    "print(\"Accuracy -  Test:\", np.round(test_acc_cnn, 3))"
   ]
  },
  {
   "cell_type": "markdown",
   "metadata": {},
   "source": [
    "Taking a look at the accuracy report and confusion matrix, we see that this model is just a bit worse all around.  Our recall on defective products is 50%, with precision of only 10%.  So using this model, we'd identify half of defective products, but only one-in-ten flagged products would actually be defective.  Not great!"
   ]
  },
  {
   "cell_type": "code",
   "execution_count": 46,
   "metadata": {},
   "outputs": [
    {
     "name": "stdout",
     "output_type": "stream",
     "text": [
      "f1:  0.1724\n",
      "precision:  0.1042\n",
      "recall:  0.5\n",
      "accuracy:  0.6943\n",
      "==================================\n",
      "              precision    recall  f1-score   support\n",
      "\n",
      "           0       0.95      0.71      0.81       147\n",
      "           1       0.10      0.50      0.17        10\n",
      "\n",
      "    accuracy                           0.69       157\n",
      "   macro avg       0.53      0.60      0.49       157\n",
      "weighted avg       0.90      0.69      0.77       157\n",
      "\n"
     ]
    }
   ],
   "source": [
    "# accuracy metrics: Neural Network\n",
    "accuracy_report(y_test_nn, np.round(y_test_hat_cnn))"
   ]
  },
  {
   "cell_type": "code",
   "execution_count": 47,
   "metadata": {},
   "outputs": [
    {
     "data": {
      "image/png": "[encoded data removed]",
      "text/plain": [
       "<Figure size 432x288 with 2 Axes>"
      ]
     },
     "metadata": {
      "needs_background": "light"
     },
     "output_type": "display_data"
    },
    {
     "name": "stdout",
     "output_type": "stream",
     "text": [
      "[[0.707 0.293]\n",
      " [0.5   0.5  ]]\n"
     ]
    }
   ],
   "source": [
    "# confusion matrix: Convolutional Neural Network\n",
    "format_cm(y_test_nn, np.round(y_test_hat_cnn), \"Manufacturing Error\", [\"No\", \"Yes\"], \"true\")"
   ]
  },
  {
   "cell_type": "markdown",
   "metadata": {},
   "source": [
    "## Summary"
   ]
  },
  {
   "cell_type": "markdown",
   "metadata": {},
   "source": [
    "We've now built various models using both traditional ML modeling approaches as well as Deep Learning techniques (i.e. neural networks).\n",
    "\n",
    "Based on the overall accuracy on our validation set, our best performing model was the Convolutional Neural Network.  However upon evaluation of our models on the test set, we saw that our CNN model had noticeably lower accuracy than expected.  This may have occurred through various attempts at model tuning, before we - just by chance - arrived at model that did well on validation, without being more broadly generalizable.\n",
    "\n",
    "As discussed in Milestone 2, our main goal with this model should be to identify as many defective products as possible, without overwhelming the Quality Check Team/Process.  By that criteria, both the Decision Tree and our first neural network performed better on the test data (higher positive recall and precision).\n",
    "\n",
    "In the end, using the CNN model, we would expect an overall accuracy of `69.4%`, and catching `50%` of all defects (with `10%` of flagged defects *actually* being defective).\n",
    "\n",
    "Had we chosen the Decision Tree, we would've obtained an overall accuracy of `79%`, while catching `60%` of all defects (with `17%` of flagged products actually being defective).\n",
    "\n",
    "And last, had we chosen our first Neural Network, we would've obtained an overall accuracy of `82%`, while catching `60%` of all defects (with `20%` of flagged products actually being defective)."
   ]
  }
 ],
 "metadata": {
  "kernelspec": {
   "display_name": "Python 3",
   "language": "python",
   "name": "python3"
  },
  "language_info": {
   "codemirror_mode": {
    "name": "ipython",
    "version": 3
   },
   "file_extension": ".py",
   "mimetype": "text/x-python",
   "name": "python",
   "nbconvert_exporter": "python",
   "pygments_lexer": "ipython3",
   "version": "3.6.10"
  }
 },
 "nbformat": 4,
 "nbformat_minor": 4
}
