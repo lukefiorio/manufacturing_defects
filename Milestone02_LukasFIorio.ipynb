{
 "cells": [
  {
   "cell_type": "markdown",
   "metadata": {},
   "source": [
    "# Milestone 2 - SECOM Manufacturing\n",
    "\n",
    "## Author - Lukas Fiorio"
   ]
  },
  {
   "cell_type": "markdown",
   "metadata": {},
   "source": [
    "## Instructions\n",
    "\n",
    "- Read and merge data\n",
    "- Clean and prepare data \n",
    "- Handle class imbalance problem\n",
    "- Apply feature reduction\n",
    "- Build and evaluate predictive models (decision tree, ensemble, SVM)\n",
    "- Summarize/describe findings"
   ]
  },
  {
   "cell_type": "markdown",
   "metadata": {},
   "source": [
    "## Introduction\n",
    "\n",
    "In this project we build upon the feature selection that we started in Milestone 1.  Our goal is to predict manufacturing failures based on sensor readings that monitor the manufacturing process.\n",
    "\n",
    "In Milestone 1 we used various feature selection techniques to reduce the dimensionality of our data to just the most useful predictors.\n",
    "\n",
    "In this project, we go further to split our data into Train-Validate-Test sets for model evaluation using Decision Tree, Random Forest, and SVM classifier models.  We explore several hyper parameters for each and compare the success of each model."
   ]
  },
  {
   "cell_type": "code",
   "execution_count": 1,
   "metadata": {},
   "outputs": [],
   "source": [
    "# Import libraries\n",
    "import pandas as pd\n",
    "import numpy as np\n",
    "import matplotlib.pyplot as plt\n",
    "import seaborn as sns\n",
    "import urllib\n",
    "\n",
    "# SFS stepwise selection\n",
    "from mlxtend.feature_selection import SequentialFeatureSelector as SFS\n",
    "from mlxtend.plotting import plot_sequential_feature_selection as plot_sfs\n",
    "from mlxtend.evaluate import PredefinedHoldoutSplit\n",
    "\n",
    "# feature reduction\n",
    "from sklearn.feature_selection import mutual_info_regression\n",
    "from sklearn import linear_model\n",
    "from sklearn.linear_model import LinearRegression\n",
    "\n",
    "# preprocessing\n",
    "from sklearn.model_selection import train_test_split\n",
    "from sklearn.preprocessing import StandardScaler\n",
    "\n",
    "# accuracy metrics\n",
    "from sklearn.metrics import confusion_matrix\n",
    "from sklearn.metrics import f1_score\n",
    "from sklearn.metrics import precision_score\n",
    "from sklearn.metrics import recall_score\n",
    "from sklearn.metrics import accuracy_score\n",
    "from sklearn.metrics import classification_report\n",
    "\n",
    "# multiple imputation\n",
    "from sklearn.experimental import enable_iterative_imputer\n",
    "from sklearn.impute import IterativeImputer\n",
    "\n",
    "# classifiers\n",
    "from sklearn import svm\n",
    "from sklearn.tree import DecisionTreeClassifier\n",
    "from sklearn.ensemble import RandomForestClassifier as rfc\n",
    "\n",
    "from joblib import dump, load # save/load model fitted models \n",
    "from itertools import product # cartesian product"
   ]
  },
  {
   "cell_type": "code",
   "execution_count": 2,
   "metadata": {},
   "outputs": [],
   "source": [
    "# set package options\n",
    "pd.set_option('display.max_columns', None) # show all columns"
   ]
  },
  {
   "cell_type": "markdown",
   "metadata": {},
   "source": [
    "## Read and merge data\n",
    "\n",
    "This was handled and explained in more detail in Milestone 1.  Below is a summary of the steps taken:\n",
    "\n",
    "- Stored data urls\n",
    "- Inspection showed features in a space-delimited (`\" \"`) txt file.  Loaded them into a dataframe.\n",
    "- Labels needed more customized loading (line-by-line into a list, parsing out extra fields and characters).\n",
    "- Merged features and labels together into a dataframe."
   ]
  },
  {
   "cell_type": "code",
   "execution_count": 3,
   "metadata": {},
   "outputs": [],
   "source": [
    "# data sources, for loading\n",
    "features_url = \"https://archive.ics.uci.edu/ml/machine-learning-databases/secom/secom.data\"\n",
    "labels_url = \"https://archive.ics.uci.edu/ml/machine-learning-databases/secom/secom_labels.data\"\n",
    "\n",
    "# load features into df\n",
    "features = np.loadtxt(features_url)\n",
    "features_df = pd.DataFrame(features)\n",
    "\n",
    "# load labels data into list\n",
    "labels_txt = urllib.request.urlopen(labels_url).read().splitlines()\n",
    "labels = [] # empty list to store labels\n",
    "\n",
    "# loop through labels, cleaning/splitting & appending to new list\n",
    "for i in labels_txt:\n",
    "    i = i.decode(\"utf-8\").replace('\"', '').split()\n",
    "    labels.append(i) # append to list\n",
    "\n",
    "# convert list to df\n",
    "labels_df = pd.DataFrame(labels, columns = ['target', 'date', 'time'])\n",
    "\n",
    "# properly type each column\n",
    "labels_df['target'] = labels_df['target'].astype('int')\n",
    "labels_df['date'] = pd.to_datetime(labels_df['date'])\n",
    "labels_df['time'] = pd.to_timedelta(labels_df['time'])\n",
    "\n",
    "# concat features & labels into df\n",
    "secom_df = pd.concat([features_df, labels_df], axis=1)"
   ]
  },
  {
   "cell_type": "markdown",
   "metadata": {},
   "source": [
    "## Clean and Prepare Data"
   ]
  },
  {
   "cell_type": "markdown",
   "metadata": {},
   "source": [
    "In Milestone 1, we walked through several steps we took to clean our data (reducing the feature count in the process) *before* addressing class imbalance and feature selection methods.\n",
    "\n",
    "Here, we've condensed those steps down.\n",
    "\n",
    "- Drop duplicate columns \\[104\\] (and convert object columns back to numeric)\n",
    "- Drop columns with only a single unique value \\[12\\]\n",
    "- Drop columns with 80%+ null values \\[8\\]"
   ]
  },
  {
   "cell_type": "code",
   "execution_count": 4,
   "metadata": {},
   "outputs": [],
   "source": [
    "### drop duplicate columns ###\n",
    "secom_df = secom_df.T.drop_duplicates().T\n",
    "\n",
    "# convert object columns back to numeric\n",
    "obj_cols = secom_df.select_dtypes('object').columns\n",
    "secom_df[obj_cols] = secom_df[obj_cols].astype(float)\n",
    "secom_df['target'] = secom_df['target'].astype(int)\n",
    "\n",
    "### drop columns w 1 unique val ###\n",
    "\n",
    "# count of unique values by column\n",
    "unique_val_cnt = secom_df.nunique().tolist()\n",
    "\n",
    "# flag & drop columns with only 1 unique value\n",
    "redundant_cols = secom_df.columns[np.where(np.array(unique_val_cnt)==1)[0]]\n",
    "secom_df = secom_df.drop(redundant_cols, axis = 1)\n",
    "\n",
    "### drop columns w 80%+ nulls ###\n",
    "\n",
    "# flag & drop columns w >80% null values\n",
    "high_null_cols = secom_df.T[(secom_df.isnull().sum() / secom_df.shape[0])>0.8].T.columns\n",
    "secom_df = secom_df.drop(high_null_cols, 1)"
   ]
  },
  {
   "cell_type": "markdown",
   "metadata": {},
   "source": [
    "Before we go any further to handle missing values, standardize data, and implement feature reduction techniques we need to split our data into train-validate-test.\n",
    "\n",
    "The validation set will allow us to tune hyper parameters (tuning hyperparameters on the test set would introduce leakage into the model).\n",
    "\n",
    "1. Split into train-test @ 90-10.\n",
    "2. Split train into train-valid @ 80-10 *(0.90 * (1/9) = 0.1)*"
   ]
  },
  {
   "cell_type": "code",
   "execution_count": 5,
   "metadata": {},
   "outputs": [],
   "source": [
    "# specify target and random state\n",
    "target = 'target'\n",
    "random_state = 99\n",
    "\n",
    "# drop unneeded timestamp data from labels\n",
    "secom_df = secom_df.drop(['date', 'time'], axis = 1)\n",
    "\n",
    "# separate df features and target\n",
    "X = secom_df.copy().drop([target], axis = 1)\n",
    "y = secom_df[target].copy()\n",
    "\n",
    "# split into train-test\n",
    "X_train, X_test, y_train, y_test = train_test_split(X, y, \n",
    "                                                    test_size = 0.1, \n",
    "                                                    random_state = random_state)\n",
    "\n",
    "# split train into train-validation\n",
    "X_train, X_valid, y_train, y_valid = train_test_split(X_train, y_train, \n",
    "                                                      test_size = (1/9), \n",
    "                                                      random_state = random_state)"
   ]
  },
  {
   "cell_type": "markdown",
   "metadata": {},
   "source": [
    "And we'll also reset the indices on each of our datasets to avoid issues with joining later on (during pre-processing)."
   ]
  },
  {
   "cell_type": "code",
   "execution_count": 6,
   "metadata": {},
   "outputs": [],
   "source": [
    "# reset index to avoid issues with joining later on\n",
    "X_train = X_train.reset_index(drop = True)\n",
    "X_valid = X_valid.reset_index(drop = True)\n",
    "X_test = X_test.reset_index(drop = True)\n",
    "\n",
    "y_train = y_train.reset_index(drop = True)\n",
    "y_valid = y_valid.reset_index(drop = True)\n",
    "y_test = y_test.reset_index(drop = True)"
   ]
  },
  {
   "cell_type": "markdown",
   "metadata": {},
   "source": [
    "### Handle missing values (multiple imputation estimator)\n",
    "\n",
    "To deal with missing values we fit a multiple imputation estimator on the training data.  This filled our missing values based on the conditional distribution of the other features (based on cases that are **not** null).  It does not use the target's conditional distribution (this is to avoid leakage).\n",
    "\n",
    "Alternatives considered were mean or median filling, or zero-filling (assuming a missing sensor reading is equivalent to a value of 0).  Since we do not know the data well enough to know *why* the records are missing, we don't feel comfortable zero-filling.\n",
    "\n",
    "Mean or median filling is generally a less accurate way to fill missing values since it does not take into account changes in the conditional distribution of the other features.\n",
    "\n",
    "The downsides to using this estimator are additional processing time (~5 minutes) and it still does not solve for bias inherent to the missing records themselves (i.e. certain records being more likely to be missing)."
   ]
  },
  {
   "cell_type": "code",
   "execution_count": 7,
   "metadata": {
    "scrolled": true
   },
   "outputs": [
    {
     "name": "stderr",
     "output_type": "stream",
     "text": [
      "/opt/anaconda3/envs/uwdatasci400/lib/python3.6/site-packages/sklearn/impute/_iterative.py:670: ConvergenceWarning: [IterativeImputer] Early stopping criterion not reached.\n",
      "  \" reached.\", ConvergenceWarning)\n"
     ]
    },
    {
     "data": {
      "text/plain": [
       "IterativeImputer(max_iter=3, random_state=99)"
      ]
     },
     "execution_count": 7,
     "metadata": {},
     "output_type": "execute_result"
    }
   ],
   "source": [
    "# limit to just 3 iterations (~5 minutes)\n",
    "mice = IterativeImputer(max_iter = 3, random_state = random_state) # initialize imputer\n",
    "mice.fit(X_train) # fit imputer\n",
    "\n",
    "# dump(mice, 'models_lfiorio/mice.joblib') "
   ]
  },
  {
   "cell_type": "markdown",
   "metadata": {},
   "source": [
    "And now we apply the learned fit to each of our train-validate-test sets."
   ]
  },
  {
   "cell_type": "code",
   "execution_count": 8,
   "metadata": {},
   "outputs": [],
   "source": [
    "# pull out column names\n",
    "X_cols = X.columns.tolist()\n",
    "\n",
    "# make imputations\n",
    "X_train = pd.DataFrame(mice.transform(X_train), columns = X_cols)\n",
    "X_valid = pd.DataFrame(mice.transform(X_valid), columns = X_cols)\n",
    "X_test = pd.DataFrame(mice.transform(X_test), columns = X_cols)"
   ]
  },
  {
   "cell_type": "markdown",
   "metadata": {},
   "source": [
    "## Class imbalance\n",
    "\n",
    "- `target = -1` (success)\n",
    "- `target =  1` (failure)"
   ]
  },
  {
   "cell_type": "code",
   "execution_count": 9,
   "metadata": {},
   "outputs": [
    {
     "name": "stdout",
     "output_type": "stream",
     "text": [
      "6.70% of values\n",
      "-1    1169\n",
      " 1      84\n",
      "Name: target, dtype: int64\n"
     ]
    }
   ],
   "source": [
    "# examine class imbalance\n",
    "print(\"{:.2%}\".format((y_train==1).mean()), 'of values')\n",
    "print(y_train.value_counts())"
   ]
  },
  {
   "cell_type": "markdown",
   "metadata": {},
   "source": [
    "### Motivation\n",
    "\n",
    "Our data are heavily biased toward \"success\" (`target = -1`); only ~7% of observations are failures.  When we fit our model, we want to ensure that each class has equal importance/priority on the fit."
   ]
  },
  {
   "cell_type": "markdown",
   "metadata": {},
   "source": [
    "### Approach\n",
    "\n",
    "To address class imbalance, we will use smote (**S**ynthetic **M**inority **O**versampling **TE**chnique) to interpolate our X features based on positive cases (where `target = 1`). \n",
    "\n",
    "We will address class imbalance in our training and validation sets, but **not** in our test set.  One issue with this approach is that performance on the validation set will not be as representative of actual performance in production (where data *will* be unbalanced).\n",
    "\n",
    "We will address this by examining model performance on the test set across various accuracy metrics (precision, recall, etc).\n",
    "\n",
    "Since smote is based on a knn algorithm, we'll first standardize our features.  knn is strongly influenced by varying magnitudes across features since it is a distance based algorithm."
   ]
  },
  {
   "cell_type": "code",
   "execution_count": 10,
   "metadata": {},
   "outputs": [],
   "source": [
    "# initialize and fit z-transform on features\n",
    "znormalizer = StandardScaler()\n",
    "znormalizer.fit(X_train)\n",
    "\n",
    "# apply fitted transformation to features\n",
    "X_train_znorm = pd.DataFrame(znormalizer.transform(X_train), columns = X_cols)\n",
    "X_valid_znorm = pd.DataFrame(znormalizer.transform(X_valid), columns = X_cols)\n",
    "X_test_znorm = pd.DataFrame(znormalizer.transform(X_test), columns = X_cols)"
   ]
  },
  {
   "cell_type": "markdown",
   "metadata": {},
   "source": [
    "Now we'll implement smote to balance our target variable in the train and validation sets.  Quick verification now shows balanced classes."
   ]
  },
  {
   "cell_type": "code",
   "execution_count": 11,
   "metadata": {
    "scrolled": true
   },
   "outputs": [
    {
     "name": "stdout",
     "output_type": "stream",
     "text": [
      "-1    1169\n",
      " 1    1169\n",
      "Name: target, dtype: int64\n",
      "-1    147\n",
      " 1    147\n",
      "Name: target, dtype: int64\n"
     ]
    }
   ],
   "source": [
    "from imblearn.over_sampling import SMOTE\n",
    "\n",
    "# initialize SMOTE and resample the minority class (y=1)\n",
    "smote = SMOTE(random_state=random_state)\n",
    "X_train_smote, y_train_smote = smote.fit_resample(X = X_train_znorm, y = y_train)\n",
    "X_valid_smote, y_valid_smote = smote.fit_resample(X = X_valid_znorm, y = y_valid)\n",
    "\n",
    "# confirm balanced classes\n",
    "print(y_train_smote.value_counts().sort_index())\n",
    "print(y_valid_smote.value_counts().sort_index())"
   ]
  },
  {
   "cell_type": "markdown",
   "metadata": {},
   "source": [
    "## Feature selection\n",
    "\n",
    "In Milestone 1, we used 3 feature selection techniques to reduce the dimensionality of our data.\n",
    "- Filter (Mutual Information)\n",
    "- Wrapper (Forward Selection)\n",
    "- Embed (Lasso Regression)\n",
    "\n",
    "There were a lot of decisions to make in the feature reduction process, but many columns could be eliminiated without applying any feature selection methods at all.  Simply through the data cleaning above, we were able to eliminate over 100 columns.\n",
    "\n",
    "We found relatively little intersection of the features selected using each method.  Almost 2/3 of the unique features selected across the methods were *only* selected by a single method.\n",
    "\n",
    "In the end we reduced dimensionality to about 95 features, much less than the nearly 600 we started with.\n",
    "\n",
    "The 2nd of the feature reduction process is implemented below"
   ]
  },
  {
   "cell_type": "markdown",
   "metadata": {},
   "source": [
    "### Mutual information\n",
    "\n",
    "We started by calculating mutual information of each attribute with the target (using our class-balanced dataset).  We identified two natural threshold points on Mutual Information (0.1, 0.3).\n",
    "\n",
    "Based on later analysis we determined that filtering to features with Mutual Information > 0.1 and uncorrelated with each other would be best.  We walk through those steps here."
   ]
  },
  {
   "cell_type": "code",
   "execution_count": 12,
   "metadata": {},
   "outputs": [
    {
     "name": "stdout",
     "output_type": "stream",
     "text": [
      "# of feature above M.I. threshold: 204\n"
     ]
    }
   ],
   "source": [
    "# calculate mutual information w target\n",
    "mi_score = mutual_info_regression(X_train_smote, y_train_smote, random_state=random_state)\n",
    "mi_score_df = pd.DataFrame({'attribute': X_train_smote.columns, 'mi_score': mi_score})\n",
    "\n",
    "# omit features whose M.I. with target is < 0.1\n",
    "mid_mi_df = mi_score_df[mi_score_df['mi_score']>0.1]\n",
    "mid_mi_cols = mid_mi_df['attribute'].tolist()\n",
    "\n",
    "print('# of feature above M.I. threshold:', len(mid_mi_cols))"
   ]
  },
  {
   "cell_type": "markdown",
   "metadata": {},
   "source": [
    "Since some of the selected features were highly correlated with each other, we also take the additional step to remove a degree of that dependence.  Independent features is a key assumption for linear models (such as SVM).\n",
    "\n",
    "The below function calculates the correlation between each feature combination.  If the feature correlation is above a certain threshold (0.7), *one* (not both) of those columns is stored for removal."
   ]
  },
  {
   "cell_type": "code",
   "execution_count": 13,
   "metadata": {},
   "outputs": [],
   "source": [
    "def find_corr_features(df):\n",
    "\n",
    "    corr_cols = []\n",
    "\n",
    "    # check for MI within remaining features\n",
    "    for col_i in df.columns:\n",
    "        for col_j in df.columns:\n",
    "\n",
    "            # compute MI for upper triangle\n",
    "            if col_i < col_j:\n",
    "                corr = df[col_i].corr(df[col_j]) \n",
    "                \n",
    "                # store & print if above threshold\n",
    "                if corr > 0.7:\n",
    "                    corr_cols.append(col_i)\n",
    "\n",
    "    return corr_cols"
   ]
  },
  {
   "cell_type": "markdown",
   "metadata": {},
   "source": [
    "Apply this function to the features we identified above and then remove those that are highly correlated with each other. (~60 seconds)"
   ]
  },
  {
   "cell_type": "code",
   "execution_count": 14,
   "metadata": {},
   "outputs": [
    {
     "name": "stdout",
     "output_type": "stream",
     "text": [
      "# of feature above M.I. threshold AND low dependence w each other: 120\n"
     ]
    }
   ],
   "source": [
    "# store columns with high correlation between each other\n",
    "mid_mi_corr_cols = find_corr_features(X_train_smote[mid_mi_cols])\n",
    "\n",
    "# remove duplicates from list of correlated columns\n",
    "mid_mi_corr_cols = list(dict.fromkeys(mid_mi_corr_cols))\n",
    "\n",
    "# keep only the features with low dependence on one another\n",
    "mid_mi_cols = list(X_train_smote[mid_mi_cols].columns.difference(mid_mi_corr_cols, sort = False))\n",
    "\n",
    "print('# of feature above M.I. threshold AND low dependence w each other:', len(mid_mi_cols))"
   ]
  },
  {
   "cell_type": "markdown",
   "metadata": {},
   "source": [
    "Keep only features with low dependence on one another."
   ]
  },
  {
   "cell_type": "markdown",
   "metadata": {},
   "source": [
    "### Forward selection"
   ]
  },
  {
   "cell_type": "markdown",
   "metadata": {},
   "source": [
    "We use forward selection, continually adding one feature to a linear model and monitoring when to stop (based on error).\n",
    "\n",
    "Based on the # of relevant features found in the filtering method above, we decided to stop after 200 steps.  This was more than enough to see when diminishing marginal returns set in.\n",
    "\n",
    "To maintain consistency of model fitting on the training data based on the validation data, we take the extra step to temporarily combine the two back together for the `SFS` model, specifying the validation indices as our desired cross-validation split."
   ]
  },
  {
   "cell_type": "code",
   "execution_count": 15,
   "metadata": {},
   "outputs": [],
   "source": [
    "# temporarily combine the training ad validation sets\n",
    "X_train_valid_smote = pd.concat([X_train_smote, X_valid_smote]).reset_index(drop = True)\n",
    "y_train_valid_smote = y_train_smote.append(y_valid_smote).reset_index(drop = True)\n",
    "\n",
    "# store validation set indices to pass to SFS\n",
    "validation_index = np.array(range(X_train_smote.shape[0], X_train_valid_smote.shape[0]))\n",
    "\n",
    "# define cv object for SFS\n",
    "cv_split = PredefinedHoldoutSplit(validation_index)"
   ]
  },
  {
   "cell_type": "markdown",
   "metadata": {},
   "source": [
    "Initialize the model and pass the indices from the validation set to be used for fitting"
   ]
  },
  {
   "cell_type": "code",
   "execution_count": 16,
   "metadata": {},
   "outputs": [],
   "source": [
    "# initilize our estimator (w lin. reg. algorithm)\n",
    "estimator = LinearRegression()\n",
    "\n",
    "# specify stepwise params\n",
    "stepwise_selector = SFS(estimator, \n",
    "    k_features = 200, # stop after 200 steps\n",
    "    forward = True, \n",
    "    scoring = 'neg_mean_squared_error', # for regression\n",
    "    cv = cv_split  # explicitly pass validation set indices\n",
    "    )"
   ]
  },
  {
   "cell_type": "markdown",
   "metadata": {},
   "source": [
    "#### *NOTE: Fitting the selector took about ~15 minutes to run*\n",
    "\n",
    "- We download the fitted selector from my github repo and load it directly to save run-time.\n",
    "\n",
    "### NOTE: The next code block will download a small zip file (<1MB) from the following github repo:\n",
    "\n",
    "https://github.com/lukefiorio/secom"
   ]
  },
  {
   "cell_type": "code",
   "execution_count": 17,
   "metadata": {},
   "outputs": [],
   "source": [
    "import os\n",
    "import requests\n",
    "import zipfile\n",
    "\n",
    "# make directory to store fitted SFS model from milestone 1\n",
    "if not os.path.exists('models_lfiorio'):\n",
    "    os.makedirs('models_lfiorio')\n",
    "    \n",
    "# make API request to pull down github repo\n",
    "url = 'https://github.com/lukefiorio/secom/archive/main.zip'\n",
    "r = requests.get(url)\n",
    "\n",
    "# set file path, name\n",
    "file_name = 'models_lfiorio/models.zip'\n",
    "\n",
    "# write zip file\n",
    "with open(file_name, 'wb') as fd:\n",
    "    for chunk in r.iter_content(chunk_size=128):\n",
    "        fd.write(chunk)\n",
    "\n",
    "# unzip the file\n",
    "with zipfile.ZipFile(file_name, 'r') as zip_ref:\n",
    "    zip_ref.extractall('models_lfiorio')\n",
    "\n",
    "# remove the original zipped file\n",
    "os.remove(file_name)"
   ]
  },
  {
   "cell_type": "markdown",
   "metadata": {},
   "source": [
    "*Original code used to fit the stepwise selector*"
   ]
  },
  {
   "cell_type": "code",
   "execution_count": 18,
   "metadata": {},
   "outputs": [],
   "source": [
    "# # train selector\n",
    "# stepwise_selector = stepwise_selector.fit(X_train_valid_smote, y_train_valid_smote)\n",
    "# dump(stepwise_selector, 'models_lfiorio/stepwise_selector.joblib') "
   ]
  },
  {
   "cell_type": "markdown",
   "metadata": {},
   "source": [
    "And now simply load the downloaded file"
   ]
  },
  {
   "cell_type": "code",
   "execution_count": 19,
   "metadata": {},
   "outputs": [],
   "source": [
    "# load fitted imputation model\n",
    "stepwise_selector = load('models_lfiorio/secom-main/stepwise_selector.joblib') "
   ]
  },
  {
   "cell_type": "markdown",
   "metadata": {},
   "source": [
    "### Find the best model.\n",
    "\n",
    "The best step was the one with the lowest abs. error. We took this extra step to identify the best step since we specified `k_features = 200` (rather than using \"parsimonious\") "
   ]
  },
  {
   "cell_type": "code",
   "execution_count": 20,
   "metadata": {},
   "outputs": [
    {
     "name": "stderr",
     "output_type": "stream",
     "text": [
      "/opt/anaconda3/envs/uwdatasci400/lib/python3.6/site-packages/numpy/core/_methods.py:217: RuntimeWarning: Degrees of freedom <= 0 for slice\n",
      "  keepdims=keepdims)\n",
      "/opt/anaconda3/envs/uwdatasci400/lib/python3.6/site-packages/numpy/core/_methods.py:209: RuntimeWarning: invalid value encountered in double_scalars\n",
      "  ret = ret.dtype.type(ret / rcount)\n"
     ]
    }
   ],
   "source": [
    "# set default values\n",
    "best_step = 0\n",
    "error = -999999\n",
    "\n",
    "# loop through step scores to find best step\n",
    "for i in stepwise_selector.get_metric_dict():\n",
    "    i_error = stepwise_selector.get_metric_dict()[i]['avg_score']\n",
    "    if i_error > error:\n",
    "        best_step = i\n",
    "        error = i_error"
   ]
  },
  {
   "cell_type": "markdown",
   "metadata": {},
   "source": [
    "Store features from the best step and read out the count (135)."
   ]
  },
  {
   "cell_type": "code",
   "execution_count": 21,
   "metadata": {},
   "outputs": [
    {
     "name": "stdout",
     "output_type": "stream",
     "text": [
      "feature cnt: 135\n"
     ]
    }
   ],
   "source": [
    "# store info on best step\n",
    "# best_step = best_selector.shape[1] # nbr of features in best step\n",
    "best_step_metrics = stepwise_selector.get_metric_dict()[best_step] # store dict of best model\n",
    "best_step_features = list(best_step_metrics['feature_names']) # access dict: feature names\n",
    "\n",
    "# show best model step & features\n",
    "print('feature cnt:', best_step)\n",
    "# best_step_features"
   ]
  },
  {
   "cell_type": "markdown",
   "metadata": {},
   "source": [
    "### Lasso Regression\n",
    "\n",
    "Lasso Regression adds a penalty term based on the absolute value of the coefficients on each feature.  As the penalty term gets bigger, more & more of the features used have their coefficients shrink to 0.\n",
    "\n",
    "Almost immediately (alpha = 0.01), the # of features gets cut in half.  Around alpha = 0.025 the # of features starts to hit an inflection point.  Not until about alpha = 0.1 does the # of features remaining begin to stabilize a bit."
   ]
  },
  {
   "cell_type": "markdown",
   "metadata": {},
   "source": [
    "Run Lasso Regression once for each value of alpha and store the coefficients."
   ]
  },
  {
   "cell_type": "code",
   "execution_count": 22,
   "metadata": {},
   "outputs": [],
   "source": [
    "# seq of penalty values ('alphas') to try\n",
    "alphas = np.linspace(0.003125, 0.15, 48)\n",
    "num_coefs = X_train_smote.shape[1]\n",
    "\n",
    "# Store coefficients for each alpha:\n",
    "coef_cols = [i for i in X_train_smote.columns] + ['intercept']\n",
    "alpha_df = pd.DataFrame(columns=coef_cols)\n",
    "\n",
    "for a in alphas:\n",
    "    # Fit model\n",
    "    clf_temp = linear_model.Lasso(alpha=a, tol=0.1, random_state = random_state)\n",
    "    clf_temp.fit(X_train_smote, y_train_smote)\n",
    "    # Get coefficients + intercept\n",
    "    coef_nums = np.append(clf_temp.coef_, clf_temp.intercept_)\n",
    "\n",
    "    alpha_df = alpha_df.append(dict(zip(coef_cols, coef_nums)), ignore_index=True)\n",
    "\n",
    "# set index values to penalty terms\n",
    "alpha_df.index = alphas"
   ]
  },
  {
   "cell_type": "markdown",
   "metadata": {},
   "source": [
    "We selected the model with regularization penalty (alpha) = 0.025 and stored the features that had non-zero coefficients (132)."
   ]
  },
  {
   "cell_type": "code",
   "execution_count": 23,
   "metadata": {
    "scrolled": false
   },
   "outputs": [
    {
     "name": "stdout",
     "output_type": "stream",
     "text": [
      "feature cnt: 132\n"
     ]
    }
   ],
   "source": [
    "lasso_cols = alpha_df.loc[0.025]\n",
    "lasso_cols = list(lasso_cols[lasso_cols != 0].index)\n",
    "\n",
    "# remove the intercept column from the list\n",
    "del lasso_cols[-1]\n",
    "\n",
    "print('feature cnt:', len(lasso_cols))"
   ]
  },
  {
   "cell_type": "markdown",
   "metadata": {},
   "source": [
    "### Combining the Feature Selection Methods\n",
    "\n",
    "Using the above techniques, we settled on a set of potential features to keep.  We then examined the number of features kept by each method as well as their overlap.\n",
    "\n",
    "Using our judgement, we kept features that appeared in **at least** two of the three methods.  This came out to 95 features."
   ]
  },
  {
   "cell_type": "code",
   "execution_count": 24,
   "metadata": {},
   "outputs": [
    {
     "name": "stdout",
     "output_type": "stream",
     "text": [
      "# of selected features for modeling: 95\n"
     ]
    }
   ],
   "source": [
    "from collections import Counter\n",
    "\n",
    "# combine selected features into large list (with dupes)\n",
    "features_list = mid_mi_cols + best_step_features + lasso_cols\n",
    "\n",
    "# apply counter to count # of occurences of each feature (while de-duping)\n",
    "feature_cnt_dict = Counter(features_list)\n",
    "feature_cnt_df = pd.DataFrame.from_dict(feature_cnt_dict, orient='index').reset_index()\n",
    "\n",
    "# selected features\n",
    "selected_features = list(feature_cnt_df['index'][feature_cnt_df[0]>1])\n",
    "\n",
    "print('# of selected features for modeling:', len(selected_features))"
   ]
  },
  {
   "cell_type": "markdown",
   "metadata": {},
   "source": [
    "## Modeling\n",
    "\n",
    "We will now attempt to predict when there are manufacturing errors. Specifically, we will build the following models and evaluate on our test set:\n",
    "\n",
    "- Decision Tree\n",
    "- Random Forest\n",
    "- SVM Classifier"
   ]
  },
  {
   "cell_type": "markdown",
   "metadata": {},
   "source": [
    "We'll start by filtering our train-validate-test sets down to just the features we selected above."
   ]
  },
  {
   "cell_type": "code",
   "execution_count": 25,
   "metadata": {},
   "outputs": [],
   "source": [
    "# filter our train-validate-test data to just our selected features\n",
    "X_train_reduced = X_train_smote[selected_features]\n",
    "X_valid_reduced = X_valid_smote[selected_features]\n",
    "X_test_reduced = X_test_znorm[selected_features]"
   ]
  },
  {
   "cell_type": "markdown",
   "metadata": {},
   "source": [
    "### Decision Tree\n",
    "\n",
    "We'll specify hyper parameters to tune our Desicion Tree.  \n",
    "\n",
    "- `max_leaf_nodes`: max # of total nodes our tree can have (default = unlimited)\n",
    "- `min_samples_leaf`: min # of observations a node can have (default = 1)\n",
    "- `max_depth`: max # of layers the tree can go to (default = unlimited)\n",
    "\n",
    "Note: For our decision tree model, we'll use Gini criterion since it is computationally less expensive then entropy and we've handled the class imbalance in our training data. (Gini has a tendency to optimize for the larger class)"
   ]
  },
  {
   "cell_type": "code",
   "execution_count": 26,
   "metadata": {},
   "outputs": [],
   "source": [
    "# designate hyper param combinations to attempt\n",
    "dt_hyper_space = {'max_leaf_nodes': [10, 30, 50],\n",
    "                  'min_samples_leaf': [1, 10, 30],\n",
    "                  'max_depth': [None, 5, 6]}\n",
    "\n",
    "# crossjoin (cartesian product) to create array of dicts\n",
    "dt_hypers = [dict(zip(dt_hyper_space, x)) for x in product(*dt_hyper_space.values())]"
   ]
  },
  {
   "cell_type": "markdown",
   "metadata": {},
   "source": [
    "#### Tune Model\n",
    "\n",
    "We'll loop through our hyper paramters (fitting on train, and predicting on validation).\n",
    "\n",
    "When we initialize the classifier, we'll only specify which loss function we want to use (Gini).\n",
    "\n",
    "We'll store the results as we go and keep the model with the highest accuracy on the validation set.  This should run quickly (much less computation than Random Forest since each model is only a single tree... not a whole forest of them)."
   ]
  },
  {
   "cell_type": "code",
   "execution_count": 27,
   "metadata": {},
   "outputs": [],
   "source": [
    "# create empty df to store model results\n",
    "dt_results = pd.DataFrame(columns=['max_leaf_nodes', 'min_samples_leaf', 'max_depth', 'accuracy'])\n",
    "\n",
    "# loop through each set of hyper parameters\n",
    "for hyper in dt_hypers:\n",
    "\n",
    "    # initialize tree classifier (** to load dict as args)\n",
    "    tree = DecisionTreeClassifier(criterion = 'gini', random_state = random_state, **hyper)\n",
    "    \n",
    "    # fit classifier on train set\n",
    "    tree.fit(X_train_reduced, y_train_smote)\n",
    "    \n",
    "    # make predictions on validation set (and calculate accuracy)\n",
    "    y_valid_hat = tree.predict(X_valid_reduced)\n",
    "    accuracy = accuracy_score(y_valid_smote, y_valid_hat)\n",
    "    \n",
    "    # store results in df\n",
    "    dt_results = dt_results.append(pd.DataFrame({\n",
    "        'max_leaf_nodes': hyper['max_leaf_nodes'], \n",
    "        'min_samples_leaf': hyper['min_samples_leaf'],\n",
    "        'max_depth': hyper['max_depth'],\n",
    "        'accuracy': [accuracy]\n",
    "    }))"
   ]
  },
  {
   "cell_type": "markdown",
   "metadata": {},
   "source": [
    "We also notice that the `None` value in `max_depth` is treated as `null` in our df.  Replace those values with the string `\"None\"` for our plots."
   ]
  },
  {
   "cell_type": "code",
   "execution_count": 28,
   "metadata": {},
   "outputs": [],
   "source": [
    "dt_results['max_depth'] = dt_results['max_depth'].fillna('None')"
   ]
  },
  {
   "cell_type": "markdown",
   "metadata": {},
   "source": [
    "Let's visualize our model results.\n",
    "\n",
    "There appears to be a clear trend across hyper parameters, which certainly values performing better regardless of the other hyper parameter values.\n",
    "- `max_depth` appears to have the largest effect, and specifically at `max_depth = 5` is when the model is most accurate on the validation set.\n",
    "- `max_leaf_nodes` appears near-identical at 30 and 50, but not sufficient at just 10\n",
    "- `min_samples_leaf` appears near-identical at 1 and 10, but suffers when raised up to 30.\n",
    "\n",
    "In general, it appears that sufficiently capping depth, while allowing more flexibility in the number of nodes and leaf size performs best."
   ]
  },
  {
   "cell_type": "code",
   "execution_count": 29,
   "metadata": {},
   "outputs": [
    {
     "data": {
      "image/png": "[encoded data removed]",
      "text/plain": [
       "<Figure size 1143.62x360 with 3 Axes>"
      ]
     },
     "metadata": {
      "needs_background": "light"
     },
     "output_type": "display_data"
    }
   ],
   "source": [
    "# specify axis\n",
    "ax = sns.catplot(data = dt_results, \n",
    "                 x = 'max_leaf_nodes', \n",
    "                 hue = 'max_depth', \n",
    "                 col = 'min_samples_leaf',\n",
    "                 y = 'accuracy', \n",
    "                 kind = 'bar',\n",
    "                 ci = None);\n",
    "\n",
    "# y axis limits\n",
    "plt.ylim(0.40, 0.70)\n",
    "\n",
    "# loop thru subplots & format axis as percentage\n",
    "from  matplotlib.ticker import PercentFormatter\n",
    "for subplot in ax.axes.flat:\n",
    "    subplot.yaxis.set_major_formatter(PercentFormatter(1))"
   ]
  },
  {
   "cell_type": "markdown",
   "metadata": {},
   "source": [
    "And our best model shows this as well, with the following hyper parameters:\n",
    "- `max_leaf_nodes = 30`\n",
    "- `min_samples_leaf = 10`\n",
    "- `max_depth = 5`\n",
    "\n",
    "With `accuracy = 59.2%`, there's certainly a bit to be desired (although keeping in mind that our data is synthetically balanced, which may result in a bit less variability to predict on then otherwise)."
   ]
  },
  {
   "cell_type": "code",
   "execution_count": 30,
   "metadata": {},
   "outputs": [
    {
     "data": {
      "text/html": [
       "<div>\n",
       "<style scoped>\n",
       "    .dataframe tbody tr th:only-of-type {\n",
       "        vertical-align: middle;\n",
       "    }\n",
       "\n",
       "    .dataframe tbody tr th {\n",
       "        vertical-align: top;\n",
       "    }\n",
       "\n",
       "    .dataframe thead th {\n",
       "        text-align: right;\n",
       "    }\n",
       "</style>\n",
       "<table border=\"1\" class=\"dataframe\">\n",
       "  <thead>\n",
       "    <tr style=\"text-align: right;\">\n",
       "      <th></th>\n",
       "      <th>max_leaf_nodes</th>\n",
       "      <th>min_samples_leaf</th>\n",
       "      <th>max_depth</th>\n",
       "      <th>accuracy</th>\n",
       "    </tr>\n",
       "  </thead>\n",
       "  <tbody>\n",
       "    <tr>\n",
       "      <th>0</th>\n",
       "      <td>30</td>\n",
       "      <td>10</td>\n",
       "      <td>5</td>\n",
       "      <td>0.591837</td>\n",
       "    </tr>\n",
       "  </tbody>\n",
       "</table>\n",
       "</div>"
      ],
      "text/plain": [
       "  max_leaf_nodes min_samples_leaf max_depth  accuracy\n",
       "0             30               10         5  0.591837"
      ]
     },
     "execution_count": 30,
     "metadata": {},
     "output_type": "execute_result"
    }
   ],
   "source": [
    "# winning model\n",
    "dt_results.nlargest(1, ['accuracy']) "
   ]
  },
  {
   "cell_type": "markdown",
   "metadata": {},
   "source": [
    "### Random Forest\n",
    "\n",
    "We'll specify hyper parameters to tune our Random Forest model (ensemble method).\n",
    "\n",
    "- `max_features`: max # of features included in each tree (default = 'sqrt')\n",
    "- `min_samples_leaf`: min # of observations a node can have (default = 1)\n",
    "- `max_depth`: max # of layers the tree can go to (default = unlimited)"
   ]
  },
  {
   "cell_type": "code",
   "execution_count": 31,
   "metadata": {},
   "outputs": [],
   "source": [
    "# designate hyper param combinations to attempt\n",
    "rf_hyper_space = {'max_features': ['sqrt', 0.5, 0.75],\n",
    "                  'min_samples_leaf': [1, 10, 30],\n",
    "                  'max_depth': [None, 5, 10]}\n",
    "\n",
    "# crossjoin (cartesian product) to create array of dicts\n",
    "rf_hypers = [dict(zip(rf_hyper_space, x)) for x in product(*rf_hyper_space.values())]"
   ]
  },
  {
   "cell_type": "markdown",
   "metadata": {},
   "source": [
    "#### Tune model\n",
    "\n",
    "We'll loop through each set of hyper parameters, fitting on the train data and predicting on the validation data. With a 3x3x3 tune-grid we'll be testing out 27 models.\n",
    "\n",
    "When we initialize the random forest classifier, we'll specify to run on all processors (`n_jobs = -1`), with 50 trees in each forest (`n_estimators = 50`).\n",
    "\n",
    "In each loop, we'll store the results and keep the model with the highest accuracy on the validation set.  This will take a bit longer than the Decision Tree model, but should still be relatively speedy."
   ]
  },
  {
   "cell_type": "code",
   "execution_count": 32,
   "metadata": {},
   "outputs": [],
   "source": [
    "# create empty df to store model results\n",
    "rf_results = pd.DataFrame(columns=['max_features', 'min_samples_leaf', 'max_depth', 'accuracy'])\n",
    "\n",
    "# loop through each set of hyper parameters\n",
    "for hyper in rf_hypers:\n",
    "\n",
    "    # initialize rf classifier (** to load dict as args)\n",
    "    rf = rfc(n_jobs = -1, n_estimators = 50, verbose = False, random_state = random_state, **hyper)\n",
    "    \n",
    "    # fit classifier on train set\n",
    "    rf.fit(X_train_reduced, y_train_smote)\n",
    "    \n",
    "    # make predictions on validation set (and calculate accuracy)\n",
    "    y_valid_hat = rf.predict(X_valid_reduced)\n",
    "    accuracy = accuracy_score(y_valid_smote, y_valid_hat)\n",
    "    \n",
    "    # store results in df\n",
    "    rf_results = rf_results.append(pd.DataFrame({\n",
    "        'max_features': hyper['max_features'], \n",
    "        'min_samples_leaf': hyper['min_samples_leaf'],\n",
    "        'max_depth': hyper['max_depth'],\n",
    "        'accuracy': [accuracy]\n",
    "    }))"
   ]
  },
  {
   "cell_type": "markdown",
   "metadata": {},
   "source": [
    "As above, we'll need to replace the `None` null values with the string `'None'` for vizualiations."
   ]
  },
  {
   "cell_type": "code",
   "execution_count": 33,
   "metadata": {},
   "outputs": [],
   "source": [
    "rf_results['max_depth'] = rf_results['max_depth'].fillna('None')"
   ]
  },
  {
   "cell_type": "markdown",
   "metadata": {},
   "source": [
    "We'll visualize these results as well.\n",
    "\n",
    "- As with our Decision Tree model, `max_depth` appears to have been the hyper parameter with the biggest impact on model accuracy (specifically at `max_depth = 5`).\n",
    "- `max_features` and `min_samples_leaf` are a bit less consistent (depending on the hyper parameter combination), but using `'sqrt'` number of features does appear to have been the most predictive.\n",
    "\n",
    "In general, it appears that sufficiently capping depth and the number of features performs best."
   ]
  },
  {
   "cell_type": "code",
   "execution_count": 34,
   "metadata": {},
   "outputs": [
    {
     "data": {
      "image/png": "[encoded data removed]",
      "text/plain": [
       "<Figure size 1143.62x360 with 3 Axes>"
      ]
     },
     "metadata": {
      "needs_background": "light"
     },
     "output_type": "display_data"
    }
   ],
   "source": [
    "# specify axis\n",
    "ax = sns.catplot(data = rf_results, \n",
    "                 x = 'max_features', \n",
    "                 hue = 'max_depth', \n",
    "                 col = 'min_samples_leaf',\n",
    "                 y = 'accuracy', \n",
    "                 kind = 'bar',\n",
    "                 ci = None);\n",
    "\n",
    "# y axis limits\n",
    "plt.ylim(0.4, 0.7)\n",
    "\n",
    "# loop thru subplots & format axis as percentage\n",
    "from  matplotlib.ticker import PercentFormatter\n",
    "for subplot in ax.axes.flat:\n",
    "    subplot.yaxis.set_major_formatter(PercentFormatter(1))"
   ]
  },
  {
   "cell_type": "markdown",
   "metadata": {},
   "source": [
    "And our best model shows this as well, with the following hyper parameters:\n",
    "- `max_features = 'sqrt'`\n",
    "- `min_samples_leaf = 1`\n",
    "- `max_depth = 5`\n",
    "\n",
    "With `accuracy = 68.7%`, we see a marked improvement over our decision tree model."
   ]
  },
  {
   "cell_type": "code",
   "execution_count": 35,
   "metadata": {},
   "outputs": [
    {
     "data": {
      "text/html": [
       "<div>\n",
       "<style scoped>\n",
       "    .dataframe tbody tr th:only-of-type {\n",
       "        vertical-align: middle;\n",
       "    }\n",
       "\n",
       "    .dataframe tbody tr th {\n",
       "        vertical-align: top;\n",
       "    }\n",
       "\n",
       "    .dataframe thead th {\n",
       "        text-align: right;\n",
       "    }\n",
       "</style>\n",
       "<table border=\"1\" class=\"dataframe\">\n",
       "  <thead>\n",
       "    <tr style=\"text-align: right;\">\n",
       "      <th></th>\n",
       "      <th>max_features</th>\n",
       "      <th>min_samples_leaf</th>\n",
       "      <th>max_depth</th>\n",
       "      <th>accuracy</th>\n",
       "    </tr>\n",
       "  </thead>\n",
       "  <tbody>\n",
       "    <tr>\n",
       "      <th>0</th>\n",
       "      <td>sqrt</td>\n",
       "      <td>1</td>\n",
       "      <td>5</td>\n",
       "      <td>0.687075</td>\n",
       "    </tr>\n",
       "  </tbody>\n",
       "</table>\n",
       "</div>"
      ],
      "text/plain": [
       "  max_features min_samples_leaf max_depth  accuracy\n",
       "0         sqrt                1         5  0.687075"
      ]
     },
     "execution_count": 35,
     "metadata": {},
     "output_type": "execute_result"
    }
   ],
   "source": [
    "# winning model\n",
    "rf_results.nlargest(1, ['accuracy']) "
   ]
  },
  {
   "cell_type": "markdown",
   "metadata": {},
   "source": [
    "### SVM Classifier\n",
    "\n",
    "We'll specify the following hyper parameters to tune our SVM classifier\n",
    "\n",
    "- `kernel`: transformation function to fit to. Try linear, polynomial, and radial basis\n",
    "- `degree`: polynomial degree to be used in the `'poly'` kernel.\n",
    "- `C`: L2 regularization penalty\n",
    "- `gamma`: coefficient for the `'poly'` and `'rbf'` kernel functions\n",
    "    - Note: `gamma = 'auto'` uses *1 / nbr_features*. `gamma = 'scale'` uses *1 / (nbr_features * Var(X))*"
   ]
  },
  {
   "cell_type": "code",
   "execution_count": 36,
   "metadata": {},
   "outputs": [],
   "source": [
    "# designate hyper param combinations to attempt\n",
    "svm_hyper_space = {'kernel': ['linear', 'poly', 'rbf'], \n",
    "               'degree': [2, 3],\n",
    "               'C': [5, 10, 15], \n",
    "               'gamma': ['scale', 'auto', 0.01]}\n",
    "\n",
    "# crossjoin (cartesian product) to create array of dicts\n",
    "svm_hypers = [dict(zip(svm_hyper_space, x)) for x in product(*svm_hyper_space.values())]"
   ]
  },
  {
   "cell_type": "markdown",
   "metadata": {},
   "source": [
    "#### Tune model\n",
    "\n",
    "Now we'll loop through each set of hyper parameters, fitting on the train data and making predictions on the validation data. With a 3x2x3x3 tune-grid we'll be testing out 54 models.  Note that we've already standardized our data earlier, so we can move ahead with model building/tuning. (SVM is a distance-sensitive algorithm)\n",
    "\n",
    "When we initialize the SVM classifier, we'll specify our `random_state` for replicability.\n",
    "\n",
    "As with our Decision Tree and Random Forest models, we'll store the results as we loop through to tune our hyper parameters.\n",
    "\n",
    "**In total this should take 3-4 minutes to run.**\n",
    "\n",
    "Also note that higher `gamma` values tend to be *much* more computationally expensive (at least in this model).  In a different environemnt, we would tune `gamma` across a broader range, but it proved too computationally intensive for this exercise."
   ]
  },
  {
   "cell_type": "code",
   "execution_count": 37,
   "metadata": {},
   "outputs": [],
   "source": [
    "# create empty df to store model results\n",
    "svmc_results = pd.DataFrame(columns=['kernel', 'degree', 'C', 'gamma', 'accuracy'])\n",
    "\n",
    "# loop through each set of hyper parameters\n",
    "for hyper in svm_hypers:\n",
    "\n",
    "    # initialize svm classifier (** to load dict as args)\n",
    "    svmc = svm.SVC(random_state = random_state, **hyper)\n",
    "    \n",
    "    # fit classifier on train set\n",
    "    svmc.fit(X_train_reduced, y_train_smote)\n",
    "    \n",
    "    # make predictions on validation set (and calculate accuracy)\n",
    "    y_valid_hat = svmc.predict(X_valid_reduced)\n",
    "    accuracy = accuracy_score(y_valid_smote, y_valid_hat)\n",
    "    \n",
    "    # store results in df\n",
    "    svmc_results = svmc_results.append(pd.DataFrame({\n",
    "        'kernel': hyper['kernel'], \n",
    "        'degree': hyper['degree'],\n",
    "        'C': hyper['C'],\n",
    "        'gamma': hyper['gamma'],\n",
    "        'accuracy': [accuracy]\n",
    "    }))"
   ]
  },
  {
   "cell_type": "markdown",
   "metadata": {},
   "source": [
    "#### Visualize the results from hyper parameter tuning.\n",
    "\n",
    "Specifically, we'll take a look at the `'linear'` and `'rbf'` kernel results first.\n",
    "\n",
    "- In general, `'linear'` appears to perform a bit better, but the results are quite consistent across these hyper parameters.\n",
    "- The regularization parameter (`C`) appears to have had very minimial affects on accuracy.\n",
    "- The gamma parameter, would only affect the `'rbf'` kernel, but even there the effect is essentially neglible.\n",
    "\n",
    "It's also worth noting that none of these models appears to have very good accuracy.  We'll inspect they `'polynomial'` kernel just below, but this may required some more computationally intensive hyper parameter tuning."
   ]
  },
  {
   "cell_type": "code",
   "execution_count": 38,
   "metadata": {},
   "outputs": [
    {
     "data": {
      "image/png": "[encoded data removed]",
      "text/plain": [
       "<Figure size 1141.88x360 with 3 Axes>"
      ]
     },
     "metadata": {
      "needs_background": "light"
     },
     "output_type": "display_data"
    }
   ],
   "source": [
    "# specify axis\n",
    "ax = sns.catplot(data = svmc_results[svmc_results['kernel']!='poly'], \n",
    "                 x = 'kernel', \n",
    "                 hue = 'gamma', \n",
    "                 col = 'C',\n",
    "                 y = 'accuracy', \n",
    "                 kind = 'bar',\n",
    "                 ci = None);\n",
    "\n",
    "# y axis limits\n",
    "plt.ylim(0.4, 0.70)\n",
    "\n",
    "# loop thru subplots & format axis as percentage\n",
    "from  matplotlib.ticker import PercentFormatter\n",
    "for subplot in ax.axes.flat:\n",
    "    subplot.yaxis.set_major_formatter(PercentFormatter(1))"
   ]
  },
  {
   "cell_type": "markdown",
   "metadata": {},
   "source": [
    "We visualize the `'poly'` kernel separately so that we can also examine the effect of the `degree` parameter (which has no effect on the other kernel functions)\n",
    "\n",
    "It appears that across the board, `degree = 3` results in a bit higher accuracy.  We also see a bit more variation in model performance across the other hyper parameters.\n",
    "\n",
    "- `gamma == 'scale'` appears to perform a bit better for *low* regularization penalties (`C =  5`)\n",
    "- `gamma != 'scale'` appears to perform a bit better for *high* regularization penalties (`C = 15`)\n",
    "\n",
    "The poly kernel also results in relatively low accuracy, although it does appear a *bit* better than the other kernels (linear, rbf)."
   ]
  },
  {
   "cell_type": "code",
   "execution_count": 39,
   "metadata": {},
   "outputs": [
    {
     "data": {
      "image/png": "[encoded data removed]",
      "text/plain": [
       "<Figure size 1141.88x360 with 3 Axes>"
      ]
     },
     "metadata": {
      "needs_background": "light"
     },
     "output_type": "display_data"
    }
   ],
   "source": [
    "# specify axis\n",
    "ax = sns.catplot(data = svmc_results[svmc_results['kernel']=='poly'], \n",
    "                 x = 'degree', \n",
    "                 hue = 'gamma', \n",
    "                 col = 'C',\n",
    "                 y = 'accuracy', \n",
    "                 kind = 'bar',\n",
    "                 ci = None);\n",
    "\n",
    "# y axis limits\n",
    "plt.ylim(0.4, 0.70)\n",
    "\n",
    "# loop thru subplots & format axis as percentage\n",
    "from  matplotlib.ticker import PercentFormatter\n",
    "for subplot in ax.axes.flat:\n",
    "    subplot.yaxis.set_major_formatter(PercentFormatter(1))"
   ]
  },
  {
   "cell_type": "markdown",
   "metadata": {},
   "source": [
    "Our best model has the following hyper parameters:\n",
    "- `kernel = 'poly'`\n",
    "- `degree = 3`\n",
    "- `C = 5`\n",
    "- `gamme = 'scale'`\n",
    "\n",
    "With `accuracy = 54.8%`, we are really left wanting more.  This model was outperformed by both the Random Forest *and* Decision Tree on our validation set."
   ]
  },
  {
   "cell_type": "code",
   "execution_count": 40,
   "metadata": {},
   "outputs": [
    {
     "data": {
      "text/html": [
       "<div>\n",
       "<style scoped>\n",
       "    .dataframe tbody tr th:only-of-type {\n",
       "        vertical-align: middle;\n",
       "    }\n",
       "\n",
       "    .dataframe tbody tr th {\n",
       "        vertical-align: top;\n",
       "    }\n",
       "\n",
       "    .dataframe thead th {\n",
       "        text-align: right;\n",
       "    }\n",
       "</style>\n",
       "<table border=\"1\" class=\"dataframe\">\n",
       "  <thead>\n",
       "    <tr style=\"text-align: right;\">\n",
       "      <th></th>\n",
       "      <th>kernel</th>\n",
       "      <th>degree</th>\n",
       "      <th>C</th>\n",
       "      <th>gamma</th>\n",
       "      <th>accuracy</th>\n",
       "    </tr>\n",
       "  </thead>\n",
       "  <tbody>\n",
       "    <tr>\n",
       "      <th>0</th>\n",
       "      <td>poly</td>\n",
       "      <td>3</td>\n",
       "      <td>5</td>\n",
       "      <td>scale</td>\n",
       "      <td>0.547619</td>\n",
       "    </tr>\n",
       "  </tbody>\n",
       "</table>\n",
       "</div>"
      ],
      "text/plain": [
       "  kernel degree  C  gamma  accuracy\n",
       "0   poly      3  5  scale  0.547619"
      ]
     },
     "execution_count": 40,
     "metadata": {},
     "output_type": "execute_result"
    }
   ],
   "source": [
    "# winning model\n",
    "svmc_results.nlargest(1, ['accuracy']) "
   ]
  },
  {
   "cell_type": "markdown",
   "metadata": {},
   "source": [
    "## Evaluation of Models\n",
    "\n",
    "We've compared each of our models on the validation set and saw that the Random Forest performed best (followed by the decision tree and then the SVM classifier).\n",
    "\n",
    "**Based on validation performance, we make the decision to use the Random Forest model in production.**\n",
    "\n",
    "That said, for informative purposes, we'll also evaluate each of the winning models on the test set, too.  Note that these results do not affect our decision to use the Random Forest model."
   ]
  },
  {
   "cell_type": "markdown",
   "metadata": {},
   "source": [
    "We'll start by initializing our best models and re-fitting to the balanced, reduced, standardized train data."
   ]
  },
  {
   "cell_type": "code",
   "execution_count": 41,
   "metadata": {},
   "outputs": [
    {
     "data": {
      "text/plain": [
       "SVC(C=5, kernel='poly', random_state=99)"
      ]
     },
     "execution_count": 41,
     "metadata": {},
     "output_type": "execute_result"
    }
   ],
   "source": [
    "# best model: Decision Tree\n",
    "tree = DecisionTreeClassifier(criterion = 'gini', \n",
    "                              random_state = random_state, \n",
    "                              max_leaf_nodes = 30,\n",
    "                              min_samples_leaf = 10,\n",
    "                              max_depth = 5)\n",
    "\n",
    "# best model: Random Forest\n",
    "rf = rfc(n_jobs = -1, \n",
    "         n_estimators = 50, \n",
    "         verbose = False, \n",
    "         random_state = random_state,\n",
    "         max_features = 'sqrt',\n",
    "         min_samples_leaf = 1,\n",
    "         max_depth = 5)\n",
    "\n",
    "# best model: SVM Classifier\n",
    "svmc = svm.SVC(random_state = random_state,\n",
    "               kernel = 'poly',\n",
    "               degree = 3,\n",
    "               C = 5,\n",
    "               gamma = 'scale'\n",
    "              )\n",
    "\n",
    "# fit models\n",
    "tree.fit(X_train_reduced, y_train_smote)\n",
    "rf.fit(X_train_reduced, y_train_smote)\n",
    "svmc.fit(X_train_reduced, y_train_smote)"
   ]
  },
  {
   "cell_type": "markdown",
   "metadata": {},
   "source": [
    "And now we'll make and store our predictions on the **unbalanced** test data.  We do not balance our test data, because we want to understand accuracy expectations in production."
   ]
  },
  {
   "cell_type": "code",
   "execution_count": 42,
   "metadata": {},
   "outputs": [],
   "source": [
    "# make predictions on the test set\n",
    "y_test_hat_tree = tree.predict(X_test_reduced)\n",
    "y_test_hat_rf = rf.predict(X_test_reduced)\n",
    "y_test_hat_svmc = svmc.predict(X_test_reduced)"
   ]
  },
  {
   "cell_type": "markdown",
   "metadata": {},
   "source": [
    "In preparation for evaluation on Test set, we'll also define functions to clearly present the following:\n",
    "\n",
    "- accuracy metrics (f1, precision, recall, etc)\n",
    "- confusion matrix"
   ]
  },
  {
   "cell_type": "code",
   "execution_count": 43,
   "metadata": {},
   "outputs": [],
   "source": [
    "def accuracy_report(y, y_hat):\n",
    "    \n",
    "    # store accuracy metrics (f1, precision, recall, accuracy, + full report)\n",
    "    f1 = f1_score(y, y_hat, pos_label = 1)\n",
    "    precision = precision_score(y, y_hat, pos_label = 1)\n",
    "    recall = recall_score(y, y_hat, pos_label = 1)\n",
    "    accuracy = accuracy_score(y, y_hat)\n",
    "    class_rpt = classification_report(y, y_hat, zero_division = 0)\n",
    "    \n",
    "    # print accuracy measures\n",
    "    print(\"f1: \", round(f1, 4))\n",
    "    print(\"precision: \", round(precision, 4))\n",
    "    print(\"recall: \", round(recall, 4))\n",
    "    print(\"accuracy: \", round(accuracy, 4))\n",
    "    print(\"==================================\")\n",
    "    print(class_rpt)"
   ]
  },
  {
   "cell_type": "code",
   "execution_count": 44,
   "metadata": {},
   "outputs": [],
   "source": [
    "def format_cm(y, y_hat, title, labels, norm):\n",
    "    ''' norm = { 'true', 'pred', 'all', None }'''\n",
    "    \n",
    "    # store (normalized) confusion matrix\n",
    "    cm = np.round(confusion_matrix(y, y_hat, normalize = norm), 3)\n",
    "\n",
    "    # configure confusion matrix plot\n",
    "    fig = plt.figure()\n",
    "    ax = fig.add_subplot(111)\n",
    "    cax = ax.matshow(cm)\n",
    "    plt.title(title)\n",
    "    fig.colorbar(cax)\n",
    "    ax.set_xticklabels([''] + labels)\n",
    "    ax.set_yticklabels([''] + labels)\n",
    "    plt.xlabel('Predicted')\n",
    "    plt.ylabel('Actual')\n",
    "\n",
    "    # show plot and confusion matrix\n",
    "    plt.show()\n",
    "    print(cm)"
   ]
  },
  {
   "cell_type": "markdown",
   "metadata": {},
   "source": [
    "#### Evaluate Accuracy Metrics\n",
    "\n",
    "Taking a look at the accuracy metrics of each model, we actually see the Random Forest and SVM classifier have similar classification rates on both classes (albeit slightly better for the Random Forest model).\n",
    "\n",
    "However, we also notice that while the Decision Tree model has the lowest overall accuracy, it *does* have the highest recall on the positive class (manufacturing failures). At `0.60` the recall is noticeably better than the other two models (`0.20` each).\n",
    "\n",
    "The precision on the Decision Tree model is a *bit* lower on the positive class (`0.17`, as compared to `0.20` in RF), but not to an extreme degree.\n",
    "\n",
    "Given the relatively low prevalance of failures, and the higher cost of missing a failure than \"missing\" a success... had we evaluated these metrics (precision, recall, f1) on the validation set, we'd have likely been inclined to choose the Decision Tree model!"
   ]
  },
  {
   "cell_type": "markdown",
   "metadata": {},
   "source": [
    "**Decision Tree**"
   ]
  },
  {
   "cell_type": "code",
   "execution_count": 45,
   "metadata": {},
   "outputs": [
    {
     "name": "stdout",
     "output_type": "stream",
     "text": [
      "f1:  0.2667\n",
      "precision:  0.1714\n",
      "recall:  0.6\n",
      "accuracy:  0.7898\n",
      "==================================\n",
      "              precision    recall  f1-score   support\n",
      "\n",
      "          -1       0.97      0.80      0.88       147\n",
      "           1       0.17      0.60      0.27        10\n",
      "\n",
      "    accuracy                           0.79       157\n",
      "   macro avg       0.57      0.70      0.57       157\n",
      "weighted avg       0.92      0.79      0.84       157\n",
      "\n"
     ]
    }
   ],
   "source": [
    "# accuracy metrics: Decision Tree\n",
    "accuracy_report(y_test, y_test_hat_tree)"
   ]
  },
  {
   "cell_type": "code",
   "execution_count": 46,
   "metadata": {},
   "outputs": [
    {
     "data": {
      "image/png": "[encoded data removed]",
      "text/plain": [
       "<Figure size 432x288 with 2 Axes>"
      ]
     },
     "metadata": {
      "needs_background": "light"
     },
     "output_type": "display_data"
    },
    {
     "name": "stdout",
     "output_type": "stream",
     "text": [
      "[[0.803 0.197]\n",
      " [0.4   0.6  ]]\n"
     ]
    }
   ],
   "source": [
    "# confusion matrix: Decision Tree\n",
    "format_cm(y_test, y_test_hat_tree, \"Manufacturing Error\", [\"No\", \"Yes\"], \"true\")"
   ]
  },
  {
   "cell_type": "markdown",
   "metadata": {},
   "source": [
    "**Random Forest**"
   ]
  },
  {
   "cell_type": "code",
   "execution_count": 47,
   "metadata": {},
   "outputs": [
    {
     "name": "stdout",
     "output_type": "stream",
     "text": [
      "f1:  0.2\n",
      "precision:  0.2\n",
      "recall:  0.2\n",
      "accuracy:  0.8981\n",
      "==================================\n",
      "              precision    recall  f1-score   support\n",
      "\n",
      "          -1       0.95      0.95      0.95       147\n",
      "           1       0.20      0.20      0.20        10\n",
      "\n",
      "    accuracy                           0.90       157\n",
      "   macro avg       0.57      0.57      0.57       157\n",
      "weighted avg       0.90      0.90      0.90       157\n",
      "\n"
     ]
    }
   ],
   "source": [
    "# accuracy metrics\n",
    "accuracy_report(y_test, y_test_hat_rf)"
   ]
  },
  {
   "cell_type": "code",
   "execution_count": 48,
   "metadata": {},
   "outputs": [
    {
     "data": {
      "image/png": "[encoded data removed]",
      "text/plain": [
       "<Figure size 432x288 with 2 Axes>"
      ]
     },
     "metadata": {
      "needs_background": "light"
     },
     "output_type": "display_data"
    },
    {
     "name": "stdout",
     "output_type": "stream",
     "text": [
      "[[0.946 0.054]\n",
      " [0.8   0.2  ]]\n"
     ]
    }
   ],
   "source": [
    "# confusion matrix: Random Forest\n",
    "format_cm(y_test, y_test_hat_rf, \"Manufacturing Error\", [\"No\", \"Yes\"], \"true\")"
   ]
  },
  {
   "cell_type": "markdown",
   "metadata": {},
   "source": [
    "**SVM Classifier**"
   ]
  },
  {
   "cell_type": "code",
   "execution_count": 49,
   "metadata": {},
   "outputs": [
    {
     "name": "stdout",
     "output_type": "stream",
     "text": [
      "f1:  0.1818\n",
      "precision:  0.1667\n",
      "recall:  0.2\n",
      "accuracy:  0.8854\n",
      "==================================\n",
      "              precision    recall  f1-score   support\n",
      "\n",
      "          -1       0.94      0.93      0.94       147\n",
      "           1       0.17      0.20      0.18        10\n",
      "\n",
      "    accuracy                           0.89       157\n",
      "   macro avg       0.56      0.57      0.56       157\n",
      "weighted avg       0.90      0.89      0.89       157\n",
      "\n"
     ]
    }
   ],
   "source": [
    "# accuracy metrics\n",
    "accuracy_report(y_test, y_test_hat_svmc)"
   ]
  },
  {
   "cell_type": "code",
   "execution_count": 50,
   "metadata": {},
   "outputs": [
    {
     "data": {
      "image/png": "[encoded data removed]",
      "text/plain": [
       "<Figure size 432x288 with 2 Axes>"
      ]
     },
     "metadata": {
      "needs_background": "light"
     },
     "output_type": "display_data"
    },
    {
     "name": "stdout",
     "output_type": "stream",
     "text": [
      "[[0.932 0.068]\n",
      " [0.8   0.2  ]]\n"
     ]
    }
   ],
   "source": [
    "# confusion matrix: SVM classifier\n",
    "format_cm(y_test, y_test_hat_svmc, \"Manufacturing Error\", [\"No\", \"Yes\"], \"true\")"
   ]
  },
  {
   "cell_type": "markdown",
   "metadata": {},
   "source": [
    "## Summary"
   ]
  },
  {
   "cell_type": "markdown",
   "metadata": {},
   "source": [
    "Based on the overall accuracy on our validation set, we selected the Random Forest model for production.  However in the more thorough evaluation of our models on the test (using more balanced accuracy metrics, such as f1, recall, and precision), we discovered that this analysis should have also been applied to our model selection process on the validation data.\n",
    "\n",
    "Our main goal with this model should be to identify as many defective products as possible, without overwhelming the Quality Check Team/Process.  By that criteria, the Decision Tree model performed best on the test data (highest positive recall, while maintaining positive precision).\n",
    "\n",
    "In all likelihood, these accuracy findings were also present in the validation data as well, so taking that extra step before selecting your chosen model is important!\n",
    "\n",
    "In the end, using the Random Forest model, we can expect overall accuracy of `89.8%`, and catching `20%` of all defects (with `20%` of flagged defects *actually* being defective).\n",
    "\n",
    "Had we chosen the Decision Tree, we would've obtained an overall accuracy of `79%`, but catchin `60%` of all defects (with `17%` of flagged products actually being defective)."
   ]
  }
 ],
 "metadata": {
  "kernelspec": {
   "display_name": "Python 3",
   "language": "python",
   "name": "python3"
  },
  "language_info": {
   "codemirror_mode": {
    "name": "ipython",
    "version": 3
   },
   "file_extension": ".py",
   "mimetype": "text/x-python",
   "name": "python",
   "nbconvert_exporter": "python",
   "pygments_lexer": "ipython3",
   "version": "3.6.10"
  }
 },
 "nbformat": 4,
 "nbformat_minor": 4
}
